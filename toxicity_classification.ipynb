{
 "cells": [
  {
   "cell_type": "markdown",
   "id": "3d58e2a5",
   "metadata": {},
   "source": [
    "# 🔍 Classificazione Tossicità Chat con modelli ML\n",
    "\n",
    "Questo notebook implementa **3 approcci di tokenizzazione ottimizzati** per la classificazione di tossicità in chat italiane con **grid search automatica** per ottimizzazione degli iperparametri.\n",
    "\n",
    "## 📋 Caratteristiche:\n",
    "- **Tokenizer**: SpaCy Base, SpaCy con Stemming NLTK, SpaCy con Preprocessing Avanzato\n",
    "- **Pipeline ML**: Logistic Regression + TF-IDF, Naive Bayes + CountVectorizer  \n",
    "- **Focus principale**: **Recall Toxic** (label 0) - metrica cruciale per identificare contenuti tossici\n",
    "- **Validazione**: 3-fold stratified cross-validation + test set finale (80/20 split)\n",
    "- **Metriche**: Accuracy, F1-score, Precision, Recall per ogni classe + **Confusion Matrix Heatmap**\n",
    "- **Ottimizzazioni**: Caching tokenizer, pipeline SpaCy ridotta, grid search automatica, gestione encoding UTF-8\n",
    "\n",
    "## 🎯 Obiettivi:\n",
    "- Confrontare performance di tokenizzazione avanzata vs. baseline semplici\n",
    "- **Minimizzare errori critici** (Toxic→Neutral/Healthy) attraverso ottimizzazione Recall Toxic\n",
    "- Valutare impatto ottimizzazioni su velocità e accuracy  \n",
    "- Analizzare efficacia preprocessing e stemming per classificazione tossicità\n",
    "- Fornire raccomandazioni per uso in produzione con parametri ottimali\n",
    "\n",
    "## 🚀 Struttura:\n",
    "1. **Setup & Configurazione** (celle 1-4)\n",
    "2. **Tokenizer Definitions & Caching** (celle 4.1-4.2.2) \n",
    "3. **Grid Search Experiments** (celle 8.1-8.3.3)\n",
    "   - 8.2: Logistic Regression + TF-IDF (3 tokenizer variants)\n",
    "   - 8.3: Naive Bayes + CountVectorizer (3 tokenizer variants)\n",
    "4. **Confronto Risultati & Salvataggio** (cella 9)\n",
    "\n",
    "## ⚙️ Configurazioni Dataset:\n",
    "- **Labels**: Toxic (0), Neutral (1), Healthy (2)\n",
    "- **Soglie polarità**: [-1.00, -0.35] = Toxic, [-0.35, 0.35] = Neutral, [0.35, 1.00] = Healthy\n",
    "- **Output**: Dataset processato salvato in `../rsc/dataset_toxicity_classification.csv`\n",
    "- **Risultati**: Grid search salvati in `../gs_results/` con timestamp\n",
    "\n",
    "## 🔧 Tokenizer Implementati:\n",
    "\n",
    "### 1. **SpaCy Base** \n",
    "- Tokenizzazione base senza preprocessing\n",
    "- Cache abilitata per performance\n",
    "\n",
    "### 2. **SpaCy + Stemming NLTK**\n",
    "- Stemming italiano con SnowballStemmer\n",
    "- Normalizzazione morfologica delle parole\n",
    "\n",
    "### 3. **SpaCy + Preprocessing Avanzato**\n",
    "- **Whitelist**: Solo token alfabetici + emoji\n",
    "- **Stopwords removal** (italiano)\n",
    "- **Lemmatizzazione** + case normalization\n",
    "- **Preserva maiuscole** per enfasi/urgenza\n",
    "- **Mantiene emoji** come indicatori emotivi\n",
    "\n",
    "## 📊 Grid Search Parameters:\n",
    "\n",
    "### TF-IDF + Logistic Regression:\n",
    "- `ngram_range`: (1,2), (1,3), (1,4)\n",
    "- `min_df`: 3, 8, 20\n",
    "- `max_df`: 0.9, 0.95, 0.99\n",
    "- `C`: 0.1, 1.0, 10.0\n",
    "- `max_iter`: 1000, 2000\n",
    "\n",
    "### CountVectorizer + Naive Bayes:\n",
    "- `ngram_range`: (1,2), (1,3), (1,4)\n",
    "- `min_df`: 3, 8, 20\n",
    "- `max_df`: 0.9, 0.95, 0.99\n",
    "- `alpha`: 0.1, 0.5, 1.0, 2.0\n",
    "\n",
    "## 🎯 Metriche Critiche:\n",
    "- **Test Recall Toxic**: Percentuale di contenuti tossici correttamente identificati\n",
    "- **Errori Critici**: Toxic→Neutral, Toxic→Healthy (falsi negativi pericolosi)\n",
    "- **CV Accuracy**: Performance media su cross-validation\n",
    "- **Confusion Matrix**: Visualizzazione errori per classe\n",
    "\n",
    "## ⏱️ Performance Tempi:\n",
    "- **~300 campioni**: 2-4 minuti per grid search\n",
    "- **~1400 campioni**: 6-17 minuti per grid search\n",
    "- **Caching attivo**: Significativa riduzione tempi su run multiple"
   ]
  },
  {
   "cell_type": "markdown",
   "id": "ee2974bb",
   "metadata": {},
   "source": [
    "## 1. 📦 Importazione Librerie e Configurazioni"
   ]
  },
  {
   "cell_type": "code",
   "execution_count": 5,
   "id": "3f0102e8",
   "metadata": {},
   "outputs": [],
   "source": [
    "# Importazioni principali\n",
    "import re\n",
    "import os\n",
    "from typing import List, Tuple\n",
    "\n",
    "import pandas as pd\n",
    "import matplotlib.pyplot as plt\n",
    "import tqdm\n",
    "\n",
    "# Importazioni scikit-learn\n",
    "from sklearn.model_selection import train_test_split, GridSearchCV\n",
    "from sklearn.feature_extraction.text import TfidfVectorizer, CountVectorizer\n",
    "from sklearn.linear_model import LogisticRegression\n",
    "from sklearn.naive_bayes import MultinomialNB\n",
    "from sklearn.pipeline import Pipeline\n",
    "from sklearn.metrics import classification_report, recall_score, confusion_matrix\n",
    "import seaborn as sns\n",
    "\n",
    "# Importazioni NLP\n",
    "from nltk.stem.snowball import SnowballStemmer\n",
    "import emoji  # Per gestire le emoji\n",
    "import spacy"
   ]
  },
  {
   "cell_type": "markdown",
   "id": "7381770d",
   "metadata": {},
   "source": [
    "### 1.1 ⚙️ Configurazioni Globali"
   ]
  },
  {
   "cell_type": "code",
   "execution_count": 6,
   "id": "5bab21ee",
   "metadata": {},
   "outputs": [
    {
     "name": "stdout",
     "output_type": "stream",
     "text": [
      "   📂 Dataset path: ../rsc/chats_dataset\n"
     ]
    }
   ],
   "source": [
    "# Dataset path\n",
    "DATASET_PATH = \"../rsc/chats_dataset\"\n",
    "\n",
    "OUTPUT_CSV_PATH = \"../rsc/dataset_toxicity_classification.csv\"\n",
    "\n",
    "# Configurazioni classificazione\n",
    "POLARITY_BINS = [-1.00, -0.35, 0.35, 1.00]\n",
    "POLARITY_LABELS = [0, 1, 2]\n",
    "TARGET_NAMES = ['Toxic', 'Neutral', 'Healthy']\n",
    "\n",
    "# Regex per parsing messaggi\n",
    "MSGS_REGEX = re.compile(\n",
    "    r\"(?P<message>(?P<timestamp>\\d{4}-\\d{2}-\\d{2} \\d{2}:\\d{2}:\\d{2}) \\| (?P<name>.+):\\n\"\n",
    "    r\"(?P<content>.+)\\nPolarity: (?P<polarity>(?P<sign>-?|\\+?)\\d\\.?\\d?\\d?)\\n\"\n",
    "    r\"\\[(?P<tag_explanation>(?P<tag>Tag: .+)\\n?(?P<explanation>Spiegazione: .+))\\])\"\n",
    ")\n",
    "\n",
    "print(f\"   📂 Dataset path: {DATASET_PATH}\")"
   ]
  },
  {
   "cell_type": "markdown",
   "id": "2d4eb26d",
   "metadata": {},
   "source": [
    "## 2. 🛠️ Funzioni di utility"
   ]
  },
  {
   "cell_type": "code",
   "execution_count": 7,
   "id": "359b462d",
   "metadata": {},
   "outputs": [
    {
     "name": "stdout",
     "output_type": "stream",
     "text": [
      "✅ Dataset trovato: c:\\Users\\tomma\\Desktop\\cipv-assistant\\rsc\\chats_dataset\n"
     ]
    }
   ],
   "source": [
    "def get_dataset_path():\n",
    "    \"\"\"Verifica esistenza dataset.\"\"\"\n",
    "    if os.path.exists(DATASET_PATH):\n",
    "        print(f\"✅ Dataset trovato: {os.path.abspath(DATASET_PATH)}\")\n",
    "        return DATASET_PATH\n",
    "    else:\n",
    "        raise FileNotFoundError(f\"❌ Dataset non trovato: {DATASET_PATH}\")\n",
    "\n",
    "# Test utility functions\n",
    "try:\n",
    "    dataset_path = get_dataset_path()\n",
    "except Exception as e:\n",
    "    print(f\"⚠️ Errore utility: {e}\")\n",
    "\n",
    "\n",
    "def plot_polarity_distribution(df: pd.DataFrame) -> None:\n",
    "    \"\"\"Crea un istogramma della distribuzione delle polarità.\"\"\"\n",
    "    plt.figure(figsize=(10, 6))\n",
    "    df[\"avg_polarity\"].hist(edgecolor='black', alpha=0.7, bins=POLARITY_BINS[:-1] + [POLARITY_BINS[-1]])\n",
    "    plt.xticks(POLARITY_BINS)\n",
    "    plt.xlabel('Average Polarity')\n",
    "    plt.ylabel('Frequency')\n",
    "    plt.title('Distribution of Average Polarity')\n",
    "    plt.grid(True, alpha=0.3)\n",
    "    plt.show()\n",
    "\n",
    "def plot_confusion_matrix_heatmap(y_true, y_pred, target_names, title=\"Confusion Matrix\"):\n",
    "    \"\"\"Crea heatmap della confusion matrix.\"\"\"\n",
    "    cm = confusion_matrix(y_true, y_pred)\n",
    "    \n",
    "    plt.figure(figsize=(9, 7))  # Aumenta dimensioni per più spazio\n",
    "    sns.heatmap(cm, \n",
    "                annot=True, \n",
    "                fmt='d', \n",
    "                cmap='Blues',\n",
    "                xticklabels=target_names,\n",
    "                yticklabels=target_names,\n",
    "                cbar_kws={'label': 'Count'},\n",
    "                annot_kws={'size': 12})\n",
    "    \n",
    "    plt.title(f'{title}\\nAccuracy: {(cm.diagonal().sum() / cm.sum()):.3f}')\n",
    "    plt.ylabel('True Label')\n",
    "    plt.xlabel('Predicted Label')\n",
    "    \n",
    "    plt.tight_layout()\n",
    "    plt.show()"
   ]
  },
  {
   "cell_type": "markdown",
   "id": "f97cc4a6",
   "metadata": {},
   "source": [
    "## 3. 📂 Caricamento e Parsing Dataset"
   ]
  },
  {
   "cell_type": "code",
   "execution_count": 8,
   "id": "eb6618d9",
   "metadata": {},
   "outputs": [
    {
     "name": "stdout",
     "output_type": "stream",
     "text": [
      "✅ Dataset trovato: c:\\Users\\tomma\\Desktop\\cipv-assistant\\rsc\\chats_dataset\n",
      "📂 Caricamento dati da: ../rsc/chats_dataset\n"
     ]
    },
    {
     "name": "stderr",
     "output_type": "stream",
     "text": [
      "Processing chats: 100%|██████████| 50/50 [00:09<00:00,  5.53it/s]\n",
      "\n"
     ]
    },
    {
     "name": "stdout",
     "output_type": "stream",
     "text": [
      "📊 Chat valide trovate: 1767\n",
      "2 campioni con label NaN:\n",
      "                                             chat_text  avg_polarity label\n",
      "625  Elena. Ricordi quelle foto che mi hai mandato ...          -1.0   NaN\n",
      "785  Non pensare di aver chiuso la questione con qu...          -1.0   NaN\n",
      "\n",
      "📊 Dataset dopo rimozione NaN: 1765 campioni\n",
      "\n",
      "Distribuzione delle label:\n",
      "label\n",
      "0    724\n",
      "1    570\n",
      "2    471\n",
      "Name: count, dtype: int64\n",
      "\n",
      "💾 Salvando dataset in: ../rsc/dataset_toxicity_classification.csv\n",
      "Training: 1412 | Test: 353\n"
     ]
    },
    {
     "data": {
      "image/png": "[encoded data removed]",
      "text/plain": [
       "<Figure size 1000x600 with 1 Axes>"
      ]
     },
     "metadata": {},
     "output_type": "display_data"
    }
   ],
   "source": [
    "def load_and_parse_chats(dataset_path: str) -> List[Tuple[str, float]]:\n",
    "    \"\"\"Carica e analizza i file di chat dal dataset.\"\"\"\n",
    "    print(f\"📂 Caricamento dati da: {dataset_path}\")\n",
    "    \n",
    "    chats = []\n",
    "    dirs = os.listdir(dataset_path)\n",
    "    \n",
    "    for directory in tqdm.tqdm(dirs, desc=\"Processing chats\"):\n",
    "        directory_path = os.path.join(dataset_path, directory)\n",
    "        if not os.path.isdir(directory_path):\n",
    "            continue\n",
    "            \n",
    "        for file in os.listdir(directory_path):\n",
    "            file_path = os.path.join(directory_path, file)\n",
    "            try:\n",
    "                with open(file_path, \"r\", encoding=\"utf-8\") as f:\n",
    "                    content = f.read()\n",
    "                    matches = list(MSGS_REGEX.finditer(content))\n",
    "                    \n",
    "                    if matches:\n",
    "                        chat_text = '\\n'.join([match.group(\"content\") for match in matches])\n",
    "                        avg_polarity = sum(float(match.group(\"polarity\")) for match in matches) / len(matches)\n",
    "                        chats.append((chat_text, avg_polarity))\n",
    "            except Exception:\n",
    "                continue\n",
    "    \n",
    "    print(f\"📊 Chat valide trovate: {len(chats)}\")\n",
    "    return chats\n",
    "\n",
    "def prepare_dataset():\n",
    "    \"\"\"Prepara il dataset per il training.\"\"\"\n",
    "    dataset_path = get_dataset_path()\n",
    "    chats = load_and_parse_chats(dataset_path)\n",
    "    \n",
    "    # Crea DataFrame\n",
    "    df = pd.DataFrame(chats, columns=[\"chat_text\", \"avg_polarity\"])\n",
    "    df[\"label\"] = pd.cut(df[\"avg_polarity\"], bins=POLARITY_BINS, labels=POLARITY_LABELS)\n",
    "\n",
    "    nan = df[df['label'].isna()]\n",
    "    print(len(nan), \"campioni con label NaN:\")\n",
    "    print(nan)\n",
    "    df = df.dropna(subset=['label'])\n",
    "\n",
    "    print(f\"\\n📊 Dataset dopo rimozione NaN: {len(df)} campioni\")\n",
    "    print(f\"\\nDistribuzione delle label:\")\n",
    "    print(df[\"label\"].value_counts())\n",
    "\n",
    "    # Salva il dataset e mostra la distribuzione\n",
    "    print(f\"\\n💾 Salvando dataset in: {OUTPUT_CSV_PATH}\")\n",
    "    df.to_csv(OUTPUT_CSV_PATH, index=False)\n",
    "\n",
    "    \n",
    "    \n",
    "    # Split dati\n",
    "    X_train, X_test, y_train, y_test = train_test_split(\n",
    "        df['chat_text'], df['label'], \n",
    "        test_size=0.2, \n",
    "        random_state=42, \n",
    "        stratify=df['label']\n",
    "    )\n",
    "    \n",
    "    print(f\"Training: {len(X_train)} | Test: {len(X_test)}\")\n",
    "    \n",
    "    return df, X_train, X_test, y_train, y_test\n",
    "\n",
    "# Carica dataset\n",
    "df, X_train, X_test, y_train, y_test = prepare_dataset()\n",
    "\n",
    "plot_polarity_distribution(df)"
   ]
  },
  {
   "cell_type": "markdown",
   "id": "c7825851",
   "metadata": {},
   "source": [
    "## 4. 🔤 Definizione Tokenizer"
   ]
  },
  {
   "cell_type": "markdown",
   "id": "32587411",
   "metadata": {},
   "source": [
    "### 4.1 🔤 Tokenizer SpaCy con caching e pipeline ridotta per velocizzare il training: \n",
    "- Implementato sistema di caching che evita di ricalcolare i token per i sample già analizzati nella stessa sessione.\n",
    "- Componenti del tokenizer non necessarie disabilitate."
   ]
  },
  {
   "cell_type": "code",
   "execution_count": 9,
   "id": "b9b3bb4e",
   "metadata": {},
   "outputs": [
    {
     "name": "stdout",
     "output_type": "stream",
     "text": [
      "🚀 Disabilitazione componenti non necessari per velocizzare la pipeline...\n",
      " Componenti attivi nella pipeline standard:  ['tok2vec', 'morphologizer', 'tagger', 'parser', 'lemmatizer', 'attribute_ruler', 'ner']\n",
      " Componenti attivi dopo disabilitazione:  ['lemmatizer']\n"
     ]
    }
   ],
   "source": [
    "nlp = spacy.load(\"it_core_news_sm\")\n",
    "print(\"🚀 Disabilitazione componenti non necessari per velocizzare la pipeline...\")\n",
    "print(\" Componenti attivi nella pipeline standard: \", nlp.pipe_names)\n",
    "nlp.disable_pipes(*[name for name in nlp.pipe_names if name != \"lemmatizer\"])\n",
    "print(\" Componenti attivi dopo disabilitazione: \", nlp.pipe_names)"
   ]
  },
  {
   "cell_type": "markdown",
   "id": "86965f75",
   "metadata": {},
   "source": [
    "#### 4.2.1 🔤 Tokenizer SpaCy base (no preprocessing)"
   ]
  },
  {
   "cell_type": "code",
   "execution_count": 10,
   "id": "4087844d",
   "metadata": {},
   "outputs": [],
   "source": [
    "_spacy_base_doc_cache = {}\n",
    "def Spacy_tokenizer_base(text: str) -> List[str]:\n",
    "    \"\"\"Tokenizza con SpaCy base\"\"\"\n",
    "    # Cache dei documenti: controlla se già processato\n",
    "    text_hash = hash(text)\n",
    "    if text_hash in _spacy_base_doc_cache:\n",
    "        return _spacy_base_doc_cache[text_hash]\n",
    "\n",
    "    doc = nlp(text)\n",
    "    tokens = []\n",
    "    for token in doc:\n",
    "        tokens.append(token.text)\n",
    "\n",
    "    # Salva in cache (limita dimensione cache)\n",
    "    if len(_spacy_base_doc_cache) < 1000:\n",
    "        _spacy_base_doc_cache[text_hash] = tokens\n",
    "    \n",
    "    return tokens"
   ]
  },
  {
   "cell_type": "markdown",
   "id": "19be80cc",
   "metadata": {},
   "source": [
    "#### 4.2 🔤 Tokenizer Spacy con Stemmer (NLTK)"
   ]
  },
  {
   "cell_type": "code",
   "execution_count": 11,
   "id": "be280fac",
   "metadata": {},
   "outputs": [],
   "source": [
    "stemmer = SnowballStemmer(\"italian\")\n",
    "\n",
    "_spacy_stemmer_doc_cache = {}\n",
    "def Spacy_tokenizer_with_stemming(text: str) -> List[str]:\n",
    "    \"\"\"Spacy Tokenizer con Stemming NLTK.\"\"\"\n",
    "\n",
    "    # Cache dei documenti: controlla se già processato\n",
    "    text_hash = hash(text)\n",
    "    if text_hash in _spacy_stemmer_doc_cache:\n",
    "        return _spacy_stemmer_doc_cache[text_hash]\n",
    "\n",
    "    doc = nlp(text)\n",
    "    tokens = []\n",
    "    for token in doc:\n",
    "        tokens.append(stemmer.stem(token.text))\n",
    "\n",
    "    # Salva in cache (limita dimensione cache)\n",
    "    if len(_spacy_stemmer_doc_cache) < 1000:\n",
    "        _spacy_stemmer_doc_cache[text_hash] = tokens\n",
    "    \n",
    "    return tokens"
   ]
  },
  {
   "cell_type": "markdown",
   "id": "45dc547b",
   "metadata": {},
   "source": [
    "#### 4.2.2 🔤 Tokenizer SpaCy base con preprocessing"
   ]
  },
  {
   "cell_type": "markdown",
   "id": "4d1514bb",
   "metadata": {},
   "source": [
    "Preprocessing Ottimizzato per la classificazione della tossicità nelle chat italiane.\n",
    "\n",
    "**Obiettivo:**  \n",
    "Questo Preprocessing mira a creare dei modelli di Machine Learning più efficienti per la classificazione della tossicità nelle chat italiane: \n",
    "\n",
    "Vantaggi:\n",
    "- Rumore ridotto e migliorata la qualità dei dati testuali per ottenere un testo più pulito e informativo possibile.\n",
    "- Ridotto costo computazionale: scartati gli elementi non utili alla classificazione della tossicità. \n",
    "\n",
    "**Implementazione:**\n",
    "- **White list**: vengono mantenute solo parole (token alfabetici) ed emoji, escludendo numeri, punteggiatura, simboli, date, orari, ecc.\n",
    "- **Filtraggio avanzato:**\n",
    "    - Le parole interamente maiuscole vengono mantenute per preservare segnali di enfasi o urgenza; tutte le altre vengono convertite in minuscolo.\n",
    "    - Le stopwords italiane vengono rimosse per ridurre il rumore semantico.\n",
    "    - Viene applicata la lemmatizzazione per normalizzare le forme delle parole.\n",
    "- **Gestione emoji**: le emoji vengono mantenute come indicatori emotivi rilevanti per il contesto conversazionale.\n",
    "- **Rimozione del rumore**: numeri, punteggiatura, simboli e altre entità non informative vengono eliminati.\n",
    "\n",
    "---\n",
    "\n",
    "**TODO e possibili miglioramenti:**\n",
    "1. Gestione delle stopwords negazionali (es. **NON**): attualmente non considerate, ma cruciali per il significato.\n",
    "2. Analisi e trattamento degli avverbi: valutare se rimuoverli o mantenerli in base all'impatto sul modello.\n",
    "3. Gestione della punteggiatura semantica (es. `'...'`, `'!?'`, `'????'`): attualmente rimossa, ma potrebbe contenere segnali utili per la classificazione.\n",
    "4. Considerare l'inclusione di bigrammi/trigrammi di parole chiave o pattern emotivi.\n",
    "5. Analisi dell'impatto delle emoji specifiche (es. 😡, 😂) sulla predizione della tossicità.\n"
   ]
  },
  {
   "cell_type": "code",
   "execution_count": 12,
   "id": "cc29034d",
   "metadata": {},
   "outputs": [],
   "source": [
    "_spacy_prep_doc_cache = {}\n",
    "# Tokenizzazione Spacy con preprocessing\n",
    "def Spacy_tokenizer_with_preprocessing(text: str) -> List[str]:\n",
    "    \"\"\"Tokenizza con SpaCy con preprocessing\"\"\"\n",
    "\n",
    "    # Cache dei documenti: controlla se già processato\n",
    "    text_hash = hash(text)\n",
    "    if text_hash in _spacy_prep_doc_cache:\n",
    "        return _spacy_prep_doc_cache[text_hash]\n",
    "\n",
    "\n",
    "    doc = nlp(text)         \n",
    "    # Preprocessing\n",
    "    tokens = []\n",
    "    for token in doc:\n",
    "        if token.is_alpha and not token.is_stop:\n",
    "            if token.text.isupper():\n",
    "                tokens.append(token.lemma_)\n",
    "            else:\n",
    "                tokens.append(token.lemma_.lower())\n",
    "        elif token.text in emoji.EMOJI_DATA:\n",
    "            tokens.append(token.text)\n",
    "    \n",
    "    # Salva in cache (limita dimensione cache)\n",
    "    if len(_spacy_prep_doc_cache) < 1000:\n",
    "        _spacy_prep_doc_cache[text_hash] = tokens\n",
    "\n",
    "    return tokens"
   ]
  },
  {
   "cell_type": "markdown",
   "id": "e75623d5",
   "metadata": {},
   "source": [
    "## 8. Grid Search   ---- TO-DO: Passare a 4 cv???"
   ]
  },
  {
   "cell_type": "markdown",
   "id": "71357f5f",
   "metadata": {},
   "source": [
    "### 8.1 Grid Search per Ottimizzazione Iperparametri\n",
    "\n",
    "Grid search automatica per trovare i migliori iperparametri per ogni combinazione tokenizer + pipeline.\n",
    "\n",
    "- potenziale TODO: Aggiungere gestione per `class_weight='balanced'` in Logistic Regression se classi sbilanciate"
   ]
  },
  {
   "cell_type": "code",
   "execution_count": 243,
   "id": "e859af69",
   "metadata": {},
   "outputs": [
    {
     "name": "stdout",
     "output_type": "stream",
     "text": [
      "✅ Funzioni Grid Search implementate\n"
     ]
    }
   ],
   "source": [
    "def esegui_grid_search_log_reg(nome_tokenizer, funzione_tokenizer, verbose=True):\n",
    "    \"\"\"Esegue grid search per ottimizzare Logistic Regression + TF-IDF.\"\"\"\n",
    "    \n",
    "    if verbose:\n",
    "        print(f\"\\n🔍 GRID SEARCH: {nome_tokenizer} + Logistic Regression\")\n",
    "        print(\"=\"*60)\n",
    "    \n",
    "    # Definisce spazio dei parametri\n",
    "    param_grid = {\n",
    "        # TfidfVectorizer parameters\n",
    "        'tfidf__ngram_range': [(1, 2), (1, 3), (1, 4)],\n",
    "        'tfidf__min_df': [3, 8, 20],  # ignora tutte le parole che appaiono in meno di n documenti\n",
    "        'tfidf__max_df': [0.9, 0.95, 0.99], # ignora le parole che appaiono in più del x% dei documenti\n",
    "        \n",
    "        # LogisticRegression parameters  \n",
    "        'classifier__C': [0.1, 1.0, 10.0],\n",
    "        'classifier__max_iter': [1000, 2000]\n",
    "    }\n",
    "    \n",
    "    # Crea pipeline base\n",
    "    pipeline = Pipeline([\n",
    "        ('tfidf', TfidfVectorizer(\n",
    "            tokenizer=funzione_tokenizer,\n",
    "            lowercase=False,\n",
    "            token_pattern=None,\n",
    "            preprocessor=None\n",
    "        )),\n",
    "        ('classifier', LogisticRegression(random_state=42, penalty='l2', solver='lbfgs')) # nel caso da aggiungere class_weight='balanced'\n",
    "    ])\n",
    "    \n",
    "    \n",
    "    # Grid search con cross-validation\n",
    "    grid_search = GridSearchCV(\n",
    "        pipeline, \n",
    "        param_grid, \n",
    "        cv=3,  # Ridotto per velocità\n",
    "        scoring= 'accuracy',\n",
    "        n_jobs=-1,\n",
    "        verbose=1 if verbose else 0\n",
    "    )\n",
    "    \n",
    "    if verbose:\n",
    "        print(f\"📊 Testando {len(param_grid['tfidf__ngram_range']) * len(param_grid['tfidf__min_df']) * len(param_grid['tfidf__max_df']) * len(param_grid['classifier__C']) * len(param_grid['classifier__max_iter'])} combinazioni...\")\n",
    "    \n",
    "    # Fit grid search\n",
    "    grid_search.fit(X_train, y_train)\n",
    "    \n",
    "    # Migliore modello su test set\n",
    "    best_pipeline = grid_search.best_estimator_\n",
    "    y_pred = best_pipeline.predict(X_test)\n",
    "    \n",
    "    # Risultati\n",
    "    risultati = {\n",
    "        'best_params': grid_search.best_params_,\n",
    "        'best_cv_score': grid_search.best_score_,\n",
    "        'test_recall_toxic': recall_score(y_test, y_pred, labels=[0], zero_division=0, average='macro'),\n",
    "        'y_pred': y_pred,\n",
    "        'y_test': y_test,\n",
    "        'grid_search_object': grid_search\n",
    "    }\n",
    "    \n",
    "    if verbose:\n",
    "        print(f\"\\n🏆 MIGLIORI PARAMETRI:\")\n",
    "        for param, value in grid_search.best_params_.items():\n",
    "            print(f\"   {param}: {value}\")\n",
    "        print(f\"\\n📈 PERFORMANCE:\")\n",
    "        print(f\"   CV Accuracy (best): {grid_search.best_score_:.4f}\")\n",
    "        print(f\"   Test Recall Toxic: {risultati['test_recall_toxic']:.4f}\")\n",
    "        print(f\"\\n📊 CLASSIFICATION REPORT:\")\n",
    "        print(classification_report(y_test, y_pred, target_names=TARGET_NAMES, zero_division=0))\n",
    "\n",
    "        plot_confusion_matrix_heatmap(y_test, y_pred, target_names=TARGET_NAMES, title=f\"Confusion Matrix: {nome_tokenizer} + Logistic Regression\")\n",
    "    \n",
    "    return risultati\n",
    "\n",
    "def esegui_grid_search_nb(nome_tokenizer, funzione_tokenizer, verbose=True):\n",
    "    \"\"\"Esegue grid search per ottimizzare Naive Bayes + CountVectorizer.\"\"\"\n",
    "    \n",
    "    if verbose:\n",
    "        print(f\"\\n🔍 GRID SEARCH: {nome_tokenizer} + Naive Bayes\")\n",
    "        print(\"=\"*60)\n",
    "    \n",
    "    # Definisce spazio dei parametri\n",
    "    param_grid = {\n",
    "        # CountVectorizer parameters\n",
    "        'count__ngram_range': [(1, 2), (1, 3), (1, 4)],\n",
    "        'count__min_df': [3, 8, 20],\n",
    "        'count__max_df': [0.9, 0.95, 0.99],\n",
    "        \n",
    "        # MultinomialNB parameters\n",
    "        'classifier__alpha': [0.1, 0.5, 1.0, 2.0]\n",
    "    }\n",
    "    \n",
    "    # Crea pipeline base\n",
    "    pipeline = Pipeline([\n",
    "        ('count', CountVectorizer(\n",
    "            tokenizer=funzione_tokenizer,\n",
    "            lowercase=False,\n",
    "            token_pattern=None,\n",
    "            preprocessor=None\n",
    "        )),\n",
    "        ('classifier', MultinomialNB())\n",
    "    ])\n",
    "    \n",
    "    \n",
    "    # Grid search con cross-validation\n",
    "    grid_search = GridSearchCV(\n",
    "        pipeline, \n",
    "        param_grid, \n",
    "        cv=3,  # Ridotto per velocità\n",
    "        scoring='accuracy',\n",
    "        n_jobs=-1,\n",
    "        verbose=1 if verbose else 0\n",
    "    )\n",
    "    \n",
    "    if verbose:\n",
    "        print(f\"📊 Testando {len(param_grid['count__ngram_range']) * len(param_grid['count__min_df']) * len(param_grid['count__max_df']) * len(param_grid['classifier__alpha'])} combinazioni...\")\n",
    "    \n",
    "    # Fit grid search\n",
    "    grid_search.fit(X_train, y_train)\n",
    "    \n",
    "    # Migliore modello su test set\n",
    "    best_pipeline = grid_search.best_estimator_\n",
    "    y_pred = best_pipeline.predict(X_test)\n",
    "    \n",
    "    # Risultati\n",
    "    risultati = {\n",
    "        'best_params': grid_search.best_params_,\n",
    "        'best_cv_score': grid_search.best_score_,\n",
    "        'test_recall_toxic': recall_score(y_test, y_pred, labels=[0], zero_division=0, average='macro'),\n",
    "        'y_pred': y_pred,\n",
    "        'y_test': y_test,\n",
    "        'grid_search_object': grid_search\n",
    "    }\n",
    "    \n",
    "    if verbose:\n",
    "        print(f\"\\n🏆 MIGLIORI PARAMETRI:\")\n",
    "        for param, value in grid_search.best_params_.items():\n",
    "            print(f\"   {param}: {value}\")\n",
    "        print(f\"\\n📈 PERFORMANCE:\")\n",
    "        print(f\"   CV Accuracy (best): {grid_search.best_score_:.4f}\")\n",
    "        print(f\"   Test Recall Toxic: {risultati['test_recall_toxic']:.4f}\")\n",
    "        print(f\"\\n📊 CLASSIFICATION REPORT:\")\n",
    "        print(classification_report(y_test, y_pred, target_names=TARGET_NAMES, zero_division=0))\n",
    "\n",
    "        plot_confusion_matrix_heatmap(y_test, y_pred, target_names=TARGET_NAMES, title=f\"Confusion Matrix: {nome_tokenizer} + Naive Bayes\")\n",
    "    \n",
    "    return risultati\n",
    "\n",
    "def confronta_grid_search_results(risultati_dict):\n",
    "    \"\"\"Confronta i risultati delle grid search per diversi tokenizer.\"\"\"\n",
    "    print(f\"\\n🏆 CONFRONTO RISULTATI GRID SEARCH\")\n",
    "    print(\"=\"*80)\n",
    "    \n",
    "    # Crea tabella comparativa\n",
    "    confronto_data = {}\n",
    "    for nome, risultati in risultati_dict.items():\n",
    "        confronto_data[nome] = {\n",
    "            'CV Accuracy': f\"{risultati['best_cv_score']:.4f}\",\n",
    "            'Test Recall Toxic': f\"{risultati['test_recall_toxic']:.4f}\",\n",
    "            'Miglior ngram': str(risultati['best_params'].get('tfidf__ngram_range', risultati['best_params'].get('count__ngram_range', 'N/A'))),\n",
    "            'Miglior min_df': str(risultati['best_params'].get('tfidf__min_df', risultati['best_params'].get('count__min_df', 'N/A'))),\n",
    "            'Miglior max_df': str(risultati['best_params'].get('tfidf__max_df', risultati['best_params'].get('count__max_df', 'N/A')))\n",
    "        }\n",
    "    \n",
    "    confronto_df = pd.DataFrame(confronto_data).T\n",
    "    print(confronto_df)\n",
    "    \n",
    "    # Trova il migliore\n",
    "    miglior_config = max(risultati_dict.keys(), \n",
    "                        key=lambda x: risultati_dict[x]['test_recall_toxic'])\n",
    "    miglior_score = risultati_dict[miglior_config]['test_recall_toxic']\n",
    "    \n",
    "    print(f\"\\n🥇 MIGLIOR CONFIGURAZIONE: {miglior_config}\")\n",
    "    print(f\"🎯 Test Recall Toxic: {miglior_score:.4f}\")\n",
    "    print(f\"🔧 Parametri ottimali:\")\n",
    "    for param, value in risultati_dict[miglior_config]['best_params'].items():\n",
    "        print(f\"   {param}: {value}\")\n",
    "\n",
    "print(\"✅ Funzioni Grid Search implementate\")"
   ]
  },
  {
   "cell_type": "markdown",
   "id": "1ae492bd",
   "metadata": {},
   "source": [
    "### 8.2  Grid Search con Logistic Regression"
   ]
  },
  {
   "cell_type": "markdown",
   "id": "252e2153",
   "metadata": {},
   "source": [
    "#### 8.2.1 🧪 SpaCy Base + Logistic Regression \n",
    "\n",
    "- (richiede ~3 minuti ~300 campioni di training)\n",
    "- (richiede ~9 minuti ~1400 campioni di training)"
   ]
  },
  {
   "cell_type": "code",
   "execution_count": 244,
   "id": "786bf82e",
   "metadata": {},
   "outputs": [
    {
     "name": "stdout",
     "output_type": "stream",
     "text": [
      "🚀 Esecuzione Grid Search: SpaCy Base + Logistic Regression...\n",
      "\n",
      "🔍 GRID SEARCH: SpaCy_Base + Logistic Regression\n",
      "============================================================\n",
      "📊 Testando 162 combinazioni...\n",
      "Fitting 3 folds for each of 162 candidates, totalling 486 fits\n",
      "\n",
      "🏆 MIGLIORI PARAMETRI:\n",
      "   classifier__C: 10.0\n",
      "   classifier__max_iter: 1000\n",
      "   tfidf__max_df: 0.99\n",
      "   tfidf__min_df: 5\n",
      "   tfidf__ngram_range: (1, 4)\n",
      "\n",
      "📈 PERFORMANCE:\n",
      "   CV Accuracy (best): 0.7925\n",
      "   Test Recall Toxic: 0.8828\n",
      "\n",
      "📊 CLASSIFICATION REPORT:\n",
      "              precision    recall  f1-score   support\n",
      "\n",
      "       Toxic       0.84      0.88      0.86       145\n",
      "     Neutral       0.75      0.67      0.70       114\n",
      "     Healthy       0.86      0.90      0.88        94\n",
      "\n",
      "    accuracy                           0.82       353\n",
      "   macro avg       0.82      0.82      0.82       353\n",
      "weighted avg       0.82      0.82      0.82       353\n",
      "\n"
     ]
    },
    {
     "data": {
      "image/png": "[encoded data removed]",
      "text/plain": [
       "<Figure size 900x700 with 2 Axes>"
      ]
     },
     "metadata": {},
     "output_type": "display_data"
    }
   ],
   "source": [
    "print(\"🚀 Esecuzione Grid Search: SpaCy Base + Logistic Regression...\")\n",
    "_spacy_base_doc_cache.clear() # Reset cache per evitare leakage tra esperimenti\n",
    "gs_spacy_base_log = esegui_grid_search_log_reg(\"SpaCy_Base\", Spacy_tokenizer_base)"
   ]
  },
  {
   "cell_type": "markdown",
   "id": "8e857ea9",
   "metadata": {},
   "source": [
    "#### 8.2.2 🧪 Stemming + Logistic Regression \n",
    "- (richiede ~4 minuti ~300 campioni di training)\n",
    "- (richiede ~17 minuti ~1400 campioni di training)"
   ]
  },
  {
   "cell_type": "code",
   "execution_count": 245,
   "id": "342d29d5",
   "metadata": {},
   "outputs": [
    {
     "name": "stdout",
     "output_type": "stream",
     "text": [
      "🚀 Esecuzione Grid Search: Spacy con Stemming + Logistic Regression...\n",
      "\n",
      "🔍 GRID SEARCH: Spacy con Stemming + Logistic Regression\n",
      "============================================================\n",
      "📊 Testando 162 combinazioni...\n",
      "Fitting 3 folds for each of 162 candidates, totalling 486 fits\n",
      "\n",
      "🏆 MIGLIORI PARAMETRI:\n",
      "   classifier__C: 10.0\n",
      "   classifier__max_iter: 1000\n",
      "   tfidf__max_df: 0.99\n",
      "   tfidf__min_df: 15\n",
      "   tfidf__ngram_range: (1, 3)\n",
      "\n",
      "📈 PERFORMANCE:\n",
      "   CV Accuracy (best): 0.7904\n",
      "   Test Recall Toxic: 0.8966\n",
      "\n",
      "📊 CLASSIFICATION REPORT:\n",
      "              precision    recall  f1-score   support\n",
      "\n",
      "       Toxic       0.88      0.90      0.89       145\n",
      "     Neutral       0.74      0.71      0.72       114\n",
      "     Healthy       0.83      0.85      0.84        94\n",
      "\n",
      "    accuracy                           0.82       353\n",
      "   macro avg       0.82      0.82      0.82       353\n",
      "weighted avg       0.82      0.82      0.82       353\n",
      "\n"
     ]
    },
    {
     "data": {
      "image/png": "[encoded data removed]",
      "text/plain": [
       "<Figure size 900x700 with 2 Axes>"
      ]
     },
     "metadata": {},
     "output_type": "display_data"
    }
   ],
   "source": [
    "print(\"🚀 Esecuzione Grid Search: Spacy con Stemming + Logistic Regression...\")\n",
    "_spacy_stemmer_doc_cache.clear()  # Reset cache per evitare leakage tra esperimenti\n",
    "gs_stemmer_log = esegui_grid_search_log_reg(\"Spacy con Stemming\", Spacy_tokenizer_with_stemming)"
   ]
  },
  {
   "cell_type": "markdown",
   "id": "ba936509",
   "metadata": {},
   "source": [
    "#### 8.2.3 🧪 SpaCy Preprocessing + Logistic Regression \n",
    "- (richiede ~2.5 minuti ~300 campioni di training)\n",
    "- (richiede ~8 minuti ~1400 campioni di training)"
   ]
  },
  {
   "cell_type": "code",
   "execution_count": 246,
   "id": "6d3014a0",
   "metadata": {},
   "outputs": [
    {
     "name": "stdout",
     "output_type": "stream",
     "text": [
      "🚀 Esecuzione Grid Search: SpaCy Preprocessing + Logistic Regression...\n",
      "\n",
      "🔍 GRID SEARCH: SpaCy_Preprocessing + Logistic Regression\n",
      "============================================================\n",
      "📊 Testando 162 combinazioni...\n",
      "Fitting 3 folds for each of 162 candidates, totalling 486 fits\n",
      "\n",
      "🏆 MIGLIORI PARAMETRI:\n",
      "   classifier__C: 1.0\n",
      "   classifier__max_iter: 1000\n",
      "   tfidf__max_df: 0.9\n",
      "   tfidf__min_df: 15\n",
      "   tfidf__ngram_range: (1, 3)\n",
      "\n",
      "📈 PERFORMANCE:\n",
      "   CV Accuracy (best): 0.7401\n",
      "   Test Recall Toxic: 0.8414\n",
      "\n",
      "📊 CLASSIFICATION REPORT:\n",
      "              precision    recall  f1-score   support\n",
      "\n",
      "       Toxic       0.78      0.84      0.81       145\n",
      "     Neutral       0.60      0.54      0.57       114\n",
      "     Healthy       0.80      0.80      0.80        94\n",
      "\n",
      "    accuracy                           0.73       353\n",
      "   macro avg       0.73      0.73      0.73       353\n",
      "weighted avg       0.73      0.73      0.73       353\n",
      "\n"
     ]
    },
    {
     "data": {
      "image/png": "[encoded data removed]",
      "text/plain": [
       "<Figure size 900x700 with 2 Axes>"
      ]
     },
     "metadata": {},
     "output_type": "display_data"
    }
   ],
   "source": [
    "print(\"🚀 Esecuzione Grid Search: SpaCy Preprocessing + Logistic Regression...\")\n",
    "_spacy_prep_doc_cache.clear() # Reset cache per evitare leakage tra esperimenti\n",
    "gs_spacy_prep_log = esegui_grid_search_log_reg(\"SpaCy_Preprocessing\", Spacy_tokenizer_with_preprocessing)"
   ]
  },
  {
   "cell_type": "markdown",
   "id": "269bc116",
   "metadata": {},
   "source": [
    "### 8.3 Grid Search con Naive Bayes  "
   ]
  },
  {
   "cell_type": "markdown",
   "id": "f51ccc12",
   "metadata": {},
   "source": [
    "#### 8.3.1 🧪 SpaCy Base + Naive Bayes \n",
    "- (richiede ~2 minuti ~300 campioni di training)\n",
    "- (richiede ~6 minuti ~1400 campioni di training)"
   ]
  },
  {
   "cell_type": "code",
   "execution_count": 247,
   "id": "7cc19108",
   "metadata": {},
   "outputs": [
    {
     "name": "stdout",
     "output_type": "stream",
     "text": [
      "🚀 Esecuzione Grid Search: SpaCy Base + Naive Bayes...\n",
      "\n",
      "🔍 GRID SEARCH: SpaCy_Base + Naive Bayes\n",
      "============================================================\n",
      "📊 Testando 108 combinazioni...\n",
      "Fitting 3 folds for each of 108 candidates, totalling 324 fits\n",
      "\n",
      "🏆 MIGLIORI PARAMETRI:\n",
      "   classifier__alpha: 0.1\n",
      "   count__max_df: 0.95\n",
      "   count__min_df: 5\n",
      "   count__ngram_range: (1, 4)\n",
      "\n",
      "📈 PERFORMANCE:\n",
      "   CV Accuracy (best): 0.7606\n",
      "   Test Recall Toxic: 0.8276\n",
      "\n",
      "📊 CLASSIFICATION REPORT:\n",
      "              precision    recall  f1-score   support\n",
      "\n",
      "       Toxic       0.88      0.83      0.85       145\n",
      "     Neutral       0.64      0.68      0.66       114\n",
      "     Healthy       0.79      0.80      0.79        94\n",
      "\n",
      "    accuracy                           0.77       353\n",
      "   macro avg       0.77      0.77      0.77       353\n",
      "weighted avg       0.78      0.77      0.77       353\n",
      "\n"
     ]
    },
    {
     "data": {
      "image/png": "[encoded data removed]",
      "text/plain": [
       "<Figure size 900x700 with 2 Axes>"
      ]
     },
     "metadata": {},
     "output_type": "display_data"
    }
   ],
   "source": [
    "print(\"🚀 Esecuzione Grid Search: SpaCy Base + Naive Bayes...\")\n",
    "_spacy_base_doc_cache.clear() # Reset cache per evitare leakage tra esperimenti\n",
    "gs_spacy_base_nb = esegui_grid_search_nb(\"SpaCy_Base\", Spacy_tokenizer_base)"
   ]
  },
  {
   "cell_type": "markdown",
   "id": "fcd3f074",
   "metadata": {},
   "source": [
    "#### 8.3.2 🧪 Stemming + Naive Bayes \n",
    "- (richiede ~2.5 minuti ~300 campioni di training)\n",
    "- (richiede ~11 minuti ~1400 campioni di training)"
   ]
  },
  {
   "cell_type": "code",
   "execution_count": 248,
   "id": "f30bba1b",
   "metadata": {},
   "outputs": [
    {
     "name": "stdout",
     "output_type": "stream",
     "text": [
      "🚀 Esecuzione Grid Search: Spacy con Stemming + Naive Bayes...\n",
      "\n",
      "🔍 GRID SEARCH: Spacy con Stemming + Naive Bayes\n",
      "============================================================\n",
      "📊 Testando 108 combinazioni...\n",
      "Fitting 3 folds for each of 108 candidates, totalling 324 fits\n",
      "\n",
      "🏆 MIGLIORI PARAMETRI:\n",
      "   classifier__alpha: 2.0\n",
      "   count__max_df: 0.95\n",
      "   count__min_df: 5\n",
      "   count__ngram_range: (1, 4)\n",
      "\n",
      "📈 PERFORMANCE:\n",
      "   CV Accuracy (best): 0.7684\n",
      "   Test Recall Toxic: 0.8207\n",
      "\n",
      "📊 CLASSIFICATION REPORT:\n",
      "              precision    recall  f1-score   support\n",
      "\n",
      "       Toxic       0.84      0.82      0.83       145\n",
      "     Neutral       0.66      0.61      0.64       114\n",
      "     Healthy       0.79      0.89      0.84        94\n",
      "\n",
      "    accuracy                           0.77       353\n",
      "   macro avg       0.77      0.78      0.77       353\n",
      "weighted avg       0.77      0.77      0.77       353\n",
      "\n"
     ]
    },
    {
     "data": {
      "image/png": "[encoded data removed]",
      "text/plain": [
       "<Figure size 900x700 with 2 Axes>"
      ]
     },
     "metadata": {},
     "output_type": "display_data"
    }
   ],
   "source": [
    "print(\"🚀 Esecuzione Grid Search: Spacy con Stemming + Naive Bayes...\")\n",
    "_spacy_stemmer_doc_cache.clear()  # Reset cache per evitare leakage tra esperimenti\n",
    "gs_stemmer_nb = esegui_grid_search_nb(\"Spacy con Stemming\", Spacy_tokenizer_with_stemming)"
   ]
  },
  {
   "cell_type": "markdown",
   "id": "0d8e27a2",
   "metadata": {},
   "source": [
    "#### 8.3.3 🧪 SpaCy Preprocessing + Naive Bayes \n",
    "- (richiede ~2 minuti ~300 campioni di training)\n",
    "- (richiede ~6 minuti ~1400 campioni di training)"
   ]
  },
  {
   "cell_type": "code",
   "execution_count": 249,
   "id": "0cad6c1e",
   "metadata": {},
   "outputs": [
    {
     "name": "stdout",
     "output_type": "stream",
     "text": [
      "🚀 Esecuzione Grid Search: SpaCy Preprocessing + Naive Bayes...\n",
      "\n",
      "🔍 GRID SEARCH: SpaCy_Preprocessing + Naive Bayes\n",
      "============================================================\n",
      "📊 Testando 108 combinazioni...\n",
      "Fitting 3 folds for each of 108 candidates, totalling 324 fits\n",
      "\n",
      "🏆 MIGLIORI PARAMETRI:\n",
      "   classifier__alpha: 0.5\n",
      "   count__max_df: 0.9\n",
      "   count__min_df: 5\n",
      "   count__ngram_range: (1, 3)\n",
      "\n",
      "📈 PERFORMANCE:\n",
      "   CV Accuracy (best): 0.7245\n",
      "   Test Recall Toxic: 0.8000\n",
      "\n",
      "📊 CLASSIFICATION REPORT:\n",
      "              precision    recall  f1-score   support\n",
      "\n",
      "       Toxic       0.82      0.80      0.81       145\n",
      "     Neutral       0.59      0.59      0.59       114\n",
      "     Healthy       0.78      0.82      0.80        94\n",
      "\n",
      "    accuracy                           0.74       353\n",
      "   macro avg       0.73      0.74      0.73       353\n",
      "weighted avg       0.74      0.74      0.74       353\n",
      "\n"
     ]
    },
    {
     "data": {
      "image/png": "[encoded data removed]",
      "text/plain": [
       "<Figure size 900x700 with 2 Axes>"
      ]
     },
     "metadata": {},
     "output_type": "display_data"
    }
   ],
   "source": [
    "print(\"🚀 Esecuzione Grid Search: SpaCy Preprocessing + Naive Bayes...\")\n",
    "_spacy_prep_doc_cache.clear() # Reset cache per evitare leakage tra esperimenti\n",
    "gs_spacy_prep_nb = esegui_grid_search_nb(\"SpaCy_Preprocessing\", Spacy_tokenizer_with_preprocessing)"
   ]
  },
  {
   "cell_type": "markdown",
   "id": "e27b7211",
   "metadata": {},
   "source": [
    "## 9. Confronto Risultati"
   ]
  },
  {
   "cell_type": "code",
   "execution_count": 250,
   "id": "95aad721",
   "metadata": {},
   "outputs": [
    {
     "name": "stdout",
     "output_type": "stream",
     "text": [
      "\n",
      "🏆 CONFRONTO RISULTATI GRID SEARCH\n",
      "================================================================================\n",
      "                     CV Accuracy Test Recall Toxic Miglior ngram  \\\n",
      "Spacy_Stemmer_LogReg      0.7904            0.8966        (1, 3)   \n",
      "SpaCy_Base_LogReg         0.7925            0.8828        (1, 4)   \n",
      "SpaCy_Prep_LogReg         0.7401            0.8414        (1, 3)   \n",
      "Spacy_Stemmer_NB          0.7684            0.8207        (1, 4)   \n",
      "SpaCy_Base_NB             0.7606            0.8276        (1, 4)   \n",
      "SpaCy_Prep_NB             0.7245            0.8000        (1, 3)   \n",
      "\n",
      "                     Miglior min_df Miglior max_df  \n",
      "Spacy_Stemmer_LogReg             15           0.99  \n",
      "SpaCy_Base_LogReg                 5           0.99  \n",
      "SpaCy_Prep_LogReg                15            0.9  \n",
      "Spacy_Stemmer_NB                  5           0.95  \n",
      "SpaCy_Base_NB                     5           0.95  \n",
      "SpaCy_Prep_NB                     5            0.9  \n",
      "\n",
      "🥇 MIGLIOR CONFIGURAZIONE: Spacy_Stemmer_LogReg\n",
      "🎯 Test Recall Toxic: 0.8966\n",
      "🔧 Parametri ottimali:\n",
      "   classifier__C: 10.0\n",
      "   classifier__max_iter: 1000\n",
      "   tfidf__max_df: 0.99\n",
      "   tfidf__min_df: 15\n",
      "   tfidf__ngram_range: (1, 3)\n",
      "💾 Salvataggio risultati grid search...\n",
      "\n",
      "✅ Risultati salvati in: ../gs_results/grid_search_results_20250724_200615.csv\n"
     ]
    }
   ],
   "source": [
    "# 🏆 Confronto Completo Grid Search\n",
    "# Esegui questa cella solo dopo aver completato almeno 2 grid search\n",
    "\n",
    "risultati_grid_search = {}\n",
    "\n",
    "# Raccogli tutti i risultati disponibili\n",
    "if 'gs_stemmer_log' in locals():\n",
    "    risultati_grid_search['Spacy_Stemmer_LogReg'] = gs_stemmer_log\n",
    "if 'gs_spacy_base_log' in locals():\n",
    "    risultati_grid_search['SpaCy_Base_LogReg'] = gs_spacy_base_log\n",
    "if 'gs_spacy_prep_log' in locals():\n",
    "    risultati_grid_search['SpaCy_Prep_LogReg'] = gs_spacy_prep_log\n",
    "if 'gs_stemmer_nb' in locals():\n",
    "    risultati_grid_search['Spacy_Stemmer_NB'] = gs_stemmer_nb\n",
    "if 'gs_spacy_base_nb' in locals():\n",
    "    risultati_grid_search['SpaCy_Base_NB'] = gs_spacy_base_nb\n",
    "if 'gs_spacy_prep_nb' in locals():\n",
    "    risultati_grid_search['SpaCy_Prep_NB'] = gs_spacy_prep_nb\n",
    "\n",
    "\n",
    "# Confronta risultati\n",
    "if len(risultati_grid_search) >= 2:\n",
    "    confronta_grid_search_results(risultati_grid_search)\n",
    "else:\n",
    "    print(\"⚠️ Esegui almeno 2 grid search prima di confrontare i risultati\")\n",
    "\n",
    "import time\n",
    "\n",
    "\n",
    "# codice per confrontare i risultati delle grid search nelle varie run\n",
    "\n",
    "# Salva i risultati delle grid search\n",
    "if len(risultati_grid_search) >= 2:\n",
    "    print(\"💾 Salvataggio risultati grid search...\")\n",
    "    # Salva in un file txt con timestamp\n",
    "    timestamp = time.strftime(\"%Y%m%d_%H%M%S\")\n",
    "    results_df = risultati_grid_search\n",
    "    with open(f\"../gs_results/grid_search_results_{timestamp}.txt\", \"w\", encoding=\"utf-8\") as f:\n",
    "        for nome, risultati in results_df.items():\n",
    "            f.write(f\"🔍 {nome}:\\n\")\n",
    "            f.write(f\"   Migliori Parametri: {risultati['best_params']}\\n\")\n",
    "            f.write(f\"   CV Accuracy (best): {risultati['best_cv_score']:.4f}\\n\")\n",
    "            f.write(f\"   Test Recall Toxic: {risultati['test_recall_toxic']:.4f}\\n\")\n",
    "            f.write(\"\\n\")\n",
    "    print(f\"\\n✅ Risultati salvati in: ../gs_results/grid_search_results_{timestamp}.csv\")\n",
    "\n",
    "\n"
   ]
  },
  {
   "cell_type": "markdown",
   "id": "3419e011",
   "metadata": {},
   "source": [
    "# Bert: Modello NLP di classificazione"
   ]
  },
  {
   "cell_type": "code",
   "execution_count": 20,
   "id": "80802711",
   "metadata": {},
   "outputs": [
    {
     "name": "stdout",
     "output_type": "stream",
     "text": [
      "🖥️ Device utilizzato: cuda\n",
      "   GPU: NVIDIA GeForce RTX 3070\n",
      "   VRAM disponibile: 8.0 GB\n"
     ]
    }
   ],
   "source": [
    "# Importazioni per BERT e Transformers\n",
    "from transformers import (\n",
    "    AutoTokenizer, \n",
    "    AutoModelForSequenceClassification,\n",
    "    TrainingArguments, \n",
    "    Trainer,\n",
    "    DataCollatorWithPadding\n",
    ")\n",
    "from datasets import Dataset\n",
    "import torch\n",
    "import numpy as np\n",
    "from sklearn.metrics import accuracy_score, precision_recall_fscore_support\n",
    "\n",
    "# Verifica disponibilità GPU\n",
    "device = torch.device('cuda' if torch.cuda.is_available() else 'cpu')\n",
    "print(f\"🖥️ Device utilizzato: {device}\")\n",
    "if torch.cuda.is_available():\n",
    "    print(f\"   GPU: {torch.cuda.get_device_name(0)}\")\n",
    "    print(f\"   VRAM disponibile: {torch.cuda.get_device_properties(0).total_memory / 1024**3:.1f} GB\")\n",
    "else:\n",
    "    print(\"   ⚠️ CUDA non disponibile, utilizzo CPU (sarà più lento)\")"
   ]
  },
  {
   "cell_type": "markdown",
   "id": "008e6f8e",
   "metadata": {},
   "source": [
    "## 🤖 Configurazione BERT Italiano\n",
    "\n",
    "TODO:\n",
    "- configurare migliori iperparametri per il fine-tuning\n",
    "- confrontare i 3 modelli di bert\n",
    "\n",
    "\n",
    "Utilizziamo un modello BERT pre-addestrato su testi italiani per il fine-tuning sulla classificazione di tossicità."
   ]
  },
  {
   "cell_type": "code",
   "execution_count": null,
   "id": "bb0d2e82",
   "metadata": {},
   "outputs": [
    {
     "name": "stdout",
     "output_type": "stream",
     "text": [
      "🤖 Modello BERT selezionato: FacebookAI/xlm-roberta-base\n",
      "⚙️ Configurazioni:\n",
      "   Max length: 256\n",
      "   Batch size: 16\n",
      "   Learning rate: 2e-05\n",
      "   Epochs: 10\n",
      "   Num labels: 3\n"
     ]
    }
   ],
   "source": [
    "# Configurazione modelli BERT italiani disponibili\n",
    "BERT_MODELS = {\n",
    "    'roberta-base' : 'FacebookAI/xlm-roberta-base',\n",
    "    'bert-base-italian': 'dbmdz/bert-base-italian-cased',\n",
    "    'umberto-base': 'Musixmatch/umberto-commoncrawl-cased-v1'\n",
    "}\n",
    "\n",
    "# Scegliamo il modello (iniziamo con quello più semplice)\n",
    "SELECTED_BERT_MODEL = BERT_MODELS['roberta-base']\n",
    "print(f\"🤖 Modello BERT selezionato: {SELECTED_BERT_MODEL}\")\n",
    "\n",
    "# Configurazioni per il fine-tuning\n",
    "MAX_LENGTH = 256  # Lunghezza massima sequenza (adatta per chat)\n",
    "BATCH_SIZE = 16   # Ridotto per evitare OOM\n",
    "LEARNING_RATE = 2e-5  # Learning rate standard per BERT\n",
    "NUM_EPOCHS = 10    # Poche epoche per evitare overfitting\n",
    "NUM_LABELS = 3    # Toxic, Neutral, Healthy\n",
    "\n",
    "print(f\"⚙️ Configurazioni:\")\n",
    "print(f\"   Max length: {MAX_LENGTH}\")\n",
    "print(f\"   Batch size: {BATCH_SIZE}\")\n",
    "print(f\"   Learning rate: {LEARNING_RATE}\")\n",
    "print(f\"   Epochs: {NUM_EPOCHS}\")\n",
    "print(f\"   Num labels: {NUM_LABELS}\")"
   ]
  },
  {
   "cell_type": "markdown",
   "id": "5001e847",
   "metadata": {},
   "source": [
    "### 🔤 Caricamento Tokenizer e Modello BERT"
   ]
  },
  {
   "cell_type": "code",
   "execution_count": 22,
   "id": "75d98eb2",
   "metadata": {},
   "outputs": [
    {
     "name": "stdout",
     "output_type": "stream",
     "text": [
      "🔄 Caricamento tokenizer BERT...\n",
      "✅ Tokenizer caricato: XLMRobertaTokenizerFast\n",
      "   Vocab size: 250002\n",
      "   Special tokens: {'bos_token': '<s>', 'eos_token': '</s>', 'unk_token': '<unk>', 'sep_token': '</s>', 'pad_token': '<pad>', 'cls_token': '<s>', 'mask_token': '<mask>'}\n",
      "\n",
      "🔄 Caricamento modello BERT...\n",
      "✅ Tokenizer caricato: XLMRobertaTokenizerFast\n",
      "   Vocab size: 250002\n",
      "   Special tokens: {'bos_token': '<s>', 'eos_token': '</s>', 'unk_token': '<unk>', 'sep_token': '</s>', 'pad_token': '<pad>', 'cls_token': '<s>', 'mask_token': '<mask>'}\n",
      "\n",
      "🔄 Caricamento modello BERT...\n"
     ]
    },
    {
     "name": "stderr",
     "output_type": "stream",
     "text": [
      "Some weights of XLMRobertaForSequenceClassification were not initialized from the model checkpoint at FacebookAI/xlm-roberta-base and are newly initialized: ['classifier.dense.bias', 'classifier.dense.weight', 'classifier.out_proj.bias', 'classifier.out_proj.weight']\n",
      "You should probably TRAIN this model on a down-stream task to be able to use it for predictions and inference.\n"
     ]
    },
    {
     "name": "stdout",
     "output_type": "stream",
     "text": [
      "✅ Modello caricato: XLMRobertaForSequenceClassification\n",
      "   Parametri totali: 278,045,955\n",
      "   Parametri trainabili: 278,045,955\n",
      "\n",
      "🧪 Test tokenizer:\n",
      "   Input: [UNK]Questo è un messaggio di prova per testare il tokenizer BERT italiano! 😊😂 sono emojii 🔥👍💔\n",
      "   Token IDs: [0, 378, 180323, 268, 195136, 31, 565, 51, 120990, 45, 13395, 117, 23261, 107, 211, 47, 1098, 52825, 20080, 618, 38818, 38, 6, 82803, 115114, 1389, 28, 121505, 14, 6, 222326, 118280, 245720, 2]\n",
      "   Attention mask: [1, 1, 1, 1, 1, 1, 1, 1, 1, 1, 1, 1, 1, 1, 1, 1, 1, 1, 1, 1, 1, 1, 1, 1, 1, 1, 1, 1, 1, 1, 1, 1, 1, 1]\n",
      "   Tokens decodificati: <s> [UNK]Questo è un messaggio di prova per testare il tokenizer BERT italiano! 😊😂 sono emojii 🔥👍💔</s>\n"
     ]
    }
   ],
   "source": [
    "print(\"🔄 Caricamento tokenizer BERT...\")\n",
    "try:\n",
    "    tokenizer = AutoTokenizer.from_pretrained(SELECTED_BERT_MODEL)\n",
    "    print(f\"✅ Tokenizer caricato: {tokenizer.__class__.__name__}\")\n",
    "    print(f\"   Vocab size: {tokenizer.vocab_size}\")\n",
    "    print(f\"   Special tokens: {tokenizer.special_tokens_map}\")\n",
    "except Exception as e:\n",
    "    print(f\"❌ Errore caricamento tokenizer: {e}\")\n",
    "    raise\n",
    "\n",
    "print(\"\\n🔄 Caricamento modello BERT...\")\n",
    "try:\n",
    "    model = AutoModelForSequenceClassification.from_pretrained(\n",
    "        SELECTED_BERT_MODEL,\n",
    "        num_labels=NUM_LABELS,\n",
    "        problem_type=\"single_label_classification\"\n",
    "    )\n",
    "    model.to(device)\n",
    "    print(f\"✅ Modello caricato: {model.__class__.__name__}\")\n",
    "    print(f\"   Parametri totali: {sum(p.numel() for p in model.parameters()):,}\")\n",
    "    print(f\"   Parametri trainabili: {sum(p.numel() for p in model.parameters() if p.requires_grad):,}\")\n",
    "except Exception as e:\n",
    "    print(f\"❌ Errore caricamento modello: {e}\")\n",
    "    raise\n",
    "\n",
    "# Test veloce del tokenizer\n",
    "sample_text = \"[UNK]Questo è un messaggio di prova per testare il tokenizer BERT italiano! 😊😂 sono emojii 🔥👍💔\"\n",
    "tokens = tokenizer(sample_text, return_tensors=\"pt\", truncation=True, padding=True, max_length=MAX_LENGTH)\n",
    "print(f\"\\n🧪 Test tokenizer:\")\n",
    "print(f\"   Input: {sample_text}\")\n",
    "print(f\"   Token IDs: {tokens['input_ids'].squeeze().tolist()}\") \n",
    "print(f\"   Attention mask: {tokens['attention_mask'].squeeze().tolist()}\")\n",
    "print(f\"   Tokens decodificati: {tokenizer.decode(tokens['input_ids'].squeeze())}\")"
   ]
  },
  {
   "cell_type": "markdown",
   "id": "1d280789",
   "metadata": {},
   "source": [
    "### 📊 Preparazione Dataset per BERT"
   ]
  },
  {
   "cell_type": "code",
   "execution_count": 23,
   "id": "978dc0d4",
   "metadata": {},
   "outputs": [
    {
     "name": "stdout",
     "output_type": "stream",
     "text": [
      "🚀 Preparazione dataset per BERT...\n",
      "📊 Preparazione dataset BERT...\n",
      "   Numero campioni: 1412\n",
      "   Distribuzione labels: label\n",
      "0    579\n",
      "1    456\n",
      "2    377\n",
      "Name: count, dtype: int64\n",
      "🔤 Tokenizzazione in corso...\n"
     ]
    },
    {
     "name": "stderr",
     "output_type": "stream",
     "text": [
      "Map: 100%|██████████| 1412/1412 [00:00<00:00, 4793.90 examples/s]\n",
      "\n"
     ]
    },
    {
     "name": "stdout",
     "output_type": "stream",
     "text": [
      "✅ Dataset tokenizzato: 1412 campioni\n",
      "   Colonne: ['labels', 'input_ids', 'attention_mask']\n",
      "📊 Preparazione dataset BERT...\n",
      "   Numero campioni: 353\n",
      "   Distribuzione labels: label\n",
      "0    145\n",
      "1    114\n",
      "2     94\n",
      "Name: count, dtype: int64\n",
      "🔤 Tokenizzazione in corso...\n"
     ]
    },
    {
     "name": "stderr",
     "output_type": "stream",
     "text": [
      "Map: 100%|██████████| 353/353 [00:00<00:00, 5077.85 examples/s]"
     ]
    },
    {
     "name": "stdout",
     "output_type": "stream",
     "text": [
      "✅ Dataset tokenizzato: 353 campioni\n",
      "   Colonne: ['labels', 'input_ids', 'attention_mask']\n",
      "\n",
      "📈 Dataset preparati:\n",
      "   Training: 1412 campioni\n",
      "   Test: 353 campioni\n",
      "\n",
      "🔍 Esempio campione tokenizzato:\n",
      "   Input IDs shape: 256\n",
      "   Attention mask shape: 256\n",
      "   Label: 0 (Toxic)\n",
      "   Testo decodificato: <s> Ciao Elena! Volevo farti sapere che mi sono iscritto a un gruppo di lettura sulla letteratura del Novecento italiano, lo fanno il martedì sera. È una cosa che mi appassiona da morire e sento che mi darà tanti nuovi...\n"
     ]
    },
    {
     "name": "stderr",
     "output_type": "stream",
     "text": [
      "\n"
     ]
    }
   ],
   "source": [
    "def tokenize_function(examples):\n",
    "    \"\"\"Tokenizza i testi per BERT.\"\"\"\n",
    "    return tokenizer(\n",
    "        examples[\"text\"], \n",
    "        truncation=True, \n",
    "        padding=\"max_length\", # possibile cambiare in 'longest' per padding dinamico\n",
    "        max_length=MAX_LENGTH\n",
    "    )\n",
    "\n",
    "def prepare_bert_dataset(texts, labels):\n",
    "    \"\"\"Prepara dataset per BERT training.\"\"\"\n",
    "    print(f\"📊 Preparazione dataset BERT...\")\n",
    "    print(f\"   Numero campioni: {len(texts)}\")\n",
    "    print(f\"   Distribuzione labels: {pd.Series(labels).value_counts().sort_index()}\")\n",
    "    \n",
    "    # Crea dataset Hugging Face\n",
    "    dataset = Dataset.from_dict({\n",
    "        \"text\": texts.tolist() if hasattr(texts, 'tolist') else list(texts),\n",
    "        \"labels\": labels.tolist() if hasattr(labels, 'tolist') else list(labels)\n",
    "    })\n",
    "    \n",
    "    # Tokenizza\n",
    "    print(\"🔤 Tokenizzazione in corso...\")\n",
    "    tokenized_dataset = dataset.map(tokenize_function, batched=True)\n",
    "    \n",
    "    # Rimuovi colonna text (non più necessaria)\n",
    "    tokenized_dataset = tokenized_dataset.remove_columns([\"text\"])\n",
    "    \n",
    "    print(f\"✅ Dataset tokenizzato: {len(tokenized_dataset)} campioni\")\n",
    "    print(f\"   Colonne: {tokenized_dataset.column_names}\")\n",
    "    \n",
    "    return tokenized_dataset\n",
    "\n",
    "# Prepara i dataset di train e test\n",
    "print(\"🚀 Preparazione dataset per BERT...\")\n",
    "bert_train_dataset = prepare_bert_dataset(X_train, y_train)\n",
    "bert_test_dataset = prepare_bert_dataset(X_test, y_test)\n",
    "\n",
    "print(f\"\\n📈 Dataset preparati:\")\n",
    "print(f\"   Training: {len(bert_train_dataset)} campioni\")\n",
    "print(f\"   Test: {len(bert_test_dataset)} campioni\")\n",
    "\n",
    "# Visualizza un esempio\n",
    "print(f\"\\n🔍 Esempio campione tokenizzato:\")\n",
    "sample = bert_train_dataset[0]\n",
    "print(f\"   Input IDs shape: {len(sample['input_ids'])}\")\n",
    "print(f\"   Attention mask shape: {len(sample['attention_mask'])}\")\n",
    "print(f\"   Label: {sample['labels']} ({TARGET_NAMES[sample['labels']]})\")\n",
    "print(f\"   Testo decodificato: {tokenizer.decode(sample['input_ids'][:50])}...\")"
   ]
  },
  {
   "cell_type": "markdown",
   "id": "470ff845",
   "metadata": {},
   "source": [
    "### ⚙️ Configurazione Training BERT"
   ]
  },
  {
   "cell_type": "code",
   "execution_count": 24,
   "id": "a3d5019a",
   "metadata": {},
   "outputs": [
    {
     "name": "stdout",
     "output_type": "stream",
     "text": [
      "⚙️ Configurazione training:\n",
      "   Output directory: ./results_bert\n",
      "   Epochs: 10\n",
      "   Batch size (train): 16\n",
      "   Learning rate: 2e-05\n",
      "   Evaluation strategy: IntervalStrategy.EPOCH\n",
      "   Metric for best model: accuracy\n",
      "   Mixed precision (fp16): True\n",
      "✅ Data collator configurato: DataCollatorWithPadding\n"
     ]
    }
   ],
   "source": [
    "# Funzione per calcolare metriche durante il training\n",
    "def compute_metrics(eval_pred):\n",
    "    \"\"\"Calcola metriche per la valutazione.\"\"\"\n",
    "    predictions, labels = eval_pred\n",
    "    predictions = np.argmax(predictions, axis=1)\n",
    "    \n",
    "    # Calcola metriche standard\n",
    "    accuracy = accuracy_score(labels, predictions)\n",
    "    precision, recall, f1, _ = precision_recall_fscore_support(labels, predictions, average='weighted')\n",
    "    \n",
    "    # Calcola recall specifico per la classe Toxic (0)\n",
    "    recall_toxic = recall_score(labels, predictions, labels=[0], average='macro', zero_division=0)\n",
    "    \n",
    "    return {\n",
    "        'accuracy': accuracy,\n",
    "        'f1': f1,\n",
    "        'precision': precision,\n",
    "        'recall': recall,\n",
    "        'recall_toxic': recall_toxic\n",
    "    }\n",
    "\n",
    "# Configurazione parametri di training\n",
    "training_args = TrainingArguments(\n",
    "    output_dir='./results_bert',          # Directory per salvare i checkpoints\n",
    "    num_train_epochs=NUM_EPOCHS,         # Numero di epoche\n",
    "    per_device_train_batch_size=BATCH_SIZE,  # Batch size per training\n",
    "    per_device_eval_batch_size=BATCH_SIZE,   # Batch size per evaluation\n",
    "    warmup_steps=100,                     # Warm-up steps\n",
    "    weight_decay=0.01,                    # Weight decay per regolarizzazione\n",
    "    learning_rate=LEARNING_RATE,         # Learning rate\n",
    "    logging_dir='./logs_bert',            # Directory per i log\n",
    "    logging_steps=50,                     # Log ogni N steps\n",
    "    eval_strategy=\"epoch\",                # Valuta a ogni epoca\n",
    "    save_strategy=\"epoch\",                # Salva a ogni epoca\n",
    "    load_best_model_at_end=True,         # Carica il miglior modello alla fine\n",
    "    metric_for_best_model=\"accuracy\",    # Metrica per selezionare il miglior modello\n",
    "    greater_is_better=True,               # Higher accuracy is better\n",
    "    save_total_limit=2,                   # Mantieni solo i migliori 2 checkpoint\n",
    "    report_to=\"none\",                     # Disabilita wandb/tensorboard per semplicità\n",
    "    fp16=torch.cuda.is_available(),       # Mixed precision se GPU disponibile\n",
    ")\n",
    "\n",
    "print(\"⚙️ Configurazione training:\")\n",
    "print(f\"   Output directory: {training_args.output_dir}\")\n",
    "print(f\"   Epochs: {training_args.num_train_epochs}\")\n",
    "print(f\"   Batch size (train): {training_args.per_device_train_batch_size}\")\n",
    "print(f\"   Learning rate: {training_args.learning_rate}\")\n",
    "print(f\"   Evaluation strategy: {training_args.eval_strategy}\")\n",
    "print(f\"   Metric for best model: {training_args.metric_for_best_model}\")\n",
    "print(f\"   Mixed precision (fp16): {training_args.fp16}\")\n",
    "\n",
    "# Data collator per gestire padding dinamico\n",
    "data_collator = DataCollatorWithPadding(tokenizer=tokenizer)\n",
    "print(f\"✅ Data collator configurato: {data_collator.__class__.__name__}\")"
   ]
  },
  {
   "cell_type": "markdown",
   "id": "c7393c94",
   "metadata": {},
   "source": [
    "### 🚀 Training BERT\n",
    "\n",
    "**⚠️ Nota**: Il training di BERT può richiedere tempo significativo:\n",
    "- Con GPU: ~10-30 minuti per 3 epoche\n",
    "- Con CPU: ~1-3 ore per 3 epoche\n",
    "\n",
    "Se vuoi fare un test rapido, riduci `NUM_EPOCHS` a 1."
   ]
  },
  {
   "cell_type": "code",
   "execution_count": 25,
   "id": "b53b23cd",
   "metadata": {},
   "outputs": [
    {
     "name": "stderr",
     "output_type": "stream",
     "text": [
      "C:\\Users\\tomma\\AppData\\Local\\Temp\\ipykernel_9140\\2229606036.py:3: FutureWarning: `tokenizer` is deprecated and will be removed in version 5.0.0 for `Trainer.__init__`. Use `processing_class` instead.\n",
      "  trainer = Trainer(\n"
     ]
    },
    {
     "name": "stdout",
     "output_type": "stream",
     "text": [
      "🔧 Inizializzazione Trainer...\n",
      "✅ Trainer inizializzato\n",
      "   Modello: XLMRobertaForSequenceClassification\n",
      "   Training dataset: 1412 campioni\n",
      "   Eval dataset: 353 campioni\n",
      "\n",
      "📊 Valutazione BASELINE (modello non fine-tuned):\n"
     ]
    },
    {
     "data": {
      "text/html": [
       "\n",
       "    <div>\n",
       "      \n",
       "      <progress value='46' max='23' style='width:300px; height:20px; vertical-align: middle;'></progress>\n",
       "      [23/23 00:18]\n",
       "    </div>\n",
       "    "
      ],
      "text/plain": [
       "<IPython.core.display.HTML object>"
      ]
     },
     "metadata": {},
     "output_type": "display_data"
    },
    {
     "name": "stderr",
     "output_type": "stream",
     "text": [
      "c:\\Users\\tomma\\AppData\\Local\\Programs\\Python\\Python312\\Lib\\site-packages\\sklearn\\metrics\\_classification.py:1706: UndefinedMetricWarning: Precision is ill-defined and being set to 0.0 in labels with no predicted samples. Use `zero_division` parameter to control this behavior.\n",
      "  _warn_prf(average, modifier, f\"{metric.capitalize()} is\", result.shape[0])\n"
     ]
    },
    {
     "name": "stdout",
     "output_type": "stream",
     "text": [
      "   loss: 1.1045\n",
      "   model_preparation_time: 0.0020\n",
      "   accuracy: 0.4108\n",
      "   f1: 0.2392\n",
      "   precision: 0.1687\n",
      "   recall: 0.4108\n",
      "   recall_toxic: 1.0000\n",
      "   runtime: 1.0591\n",
      "   samples_per_second: 333.2940\n",
      "   steps_per_second: 21.7160\n",
      "\n",
      "🚀 Avvio training BERT...\n",
      "   Questo potrebbe richiedere diversi minuti...\n",
      "   Device: cuda\n"
     ]
    },
    {
     "data": {
      "text/html": [
       "\n",
       "    <div>\n",
       "      \n",
       "      <progress value='890' max='890' style='width:300px; height:20px; vertical-align: middle;'></progress>\n",
       "      [890/890 03:48, Epoch 10/10]\n",
       "    </div>\n",
       "    <table border=\"1\" class=\"dataframe\">\n",
       "  <thead>\n",
       " <tr style=\"text-align: left;\">\n",
       "      <th>Epoch</th>\n",
       "      <th>Training Loss</th>\n",
       "      <th>Validation Loss</th>\n",
       "      <th>Model Preparation Time</th>\n",
       "      <th>Accuracy</th>\n",
       "      <th>F1</th>\n",
       "      <th>Precision</th>\n",
       "      <th>Recall</th>\n",
       "      <th>Recall Toxic</th>\n",
       "    </tr>\n",
       "  </thead>\n",
       "  <tbody>\n",
       "    <tr>\n",
       "      <td>1</td>\n",
       "      <td>1.098700</td>\n",
       "      <td>1.059204</td>\n",
       "      <td>0.002000</td>\n",
       "      <td>0.509915</td>\n",
       "      <td>0.415386</td>\n",
       "      <td>0.609609</td>\n",
       "      <td>0.509915</td>\n",
       "      <td>1.000000</td>\n",
       "    </tr>\n",
       "    <tr>\n",
       "      <td>2</td>\n",
       "      <td>0.816500</td>\n",
       "      <td>0.649635</td>\n",
       "      <td>0.002000</td>\n",
       "      <td>0.708215</td>\n",
       "      <td>0.696316</td>\n",
       "      <td>0.705984</td>\n",
       "      <td>0.708215</td>\n",
       "      <td>0.951724</td>\n",
       "    </tr>\n",
       "    <tr>\n",
       "      <td>3</td>\n",
       "      <td>0.603400</td>\n",
       "      <td>0.618600</td>\n",
       "      <td>0.002000</td>\n",
       "      <td>0.742210</td>\n",
       "      <td>0.732650</td>\n",
       "      <td>0.741189</td>\n",
       "      <td>0.742210</td>\n",
       "      <td>0.820690</td>\n",
       "    </tr>\n",
       "    <tr>\n",
       "      <td>4</td>\n",
       "      <td>0.459300</td>\n",
       "      <td>0.609980</td>\n",
       "      <td>0.002000</td>\n",
       "      <td>0.762040</td>\n",
       "      <td>0.765597</td>\n",
       "      <td>0.775913</td>\n",
       "      <td>0.762040</td>\n",
       "      <td>0.758621</td>\n",
       "    </tr>\n",
       "    <tr>\n",
       "      <td>5</td>\n",
       "      <td>0.391600</td>\n",
       "      <td>0.618485</td>\n",
       "      <td>0.002000</td>\n",
       "      <td>0.776204</td>\n",
       "      <td>0.779644</td>\n",
       "      <td>0.788032</td>\n",
       "      <td>0.776204</td>\n",
       "      <td>0.779310</td>\n",
       "    </tr>\n",
       "    <tr>\n",
       "      <td>6</td>\n",
       "      <td>0.295200</td>\n",
       "      <td>0.744846</td>\n",
       "      <td>0.002000</td>\n",
       "      <td>0.747875</td>\n",
       "      <td>0.748165</td>\n",
       "      <td>0.751038</td>\n",
       "      <td>0.747875</td>\n",
       "      <td>0.793103</td>\n",
       "    </tr>\n",
       "    <tr>\n",
       "      <td>7</td>\n",
       "      <td>0.186200</td>\n",
       "      <td>1.167009</td>\n",
       "      <td>0.002000</td>\n",
       "      <td>0.702550</td>\n",
       "      <td>0.705467</td>\n",
       "      <td>0.739043</td>\n",
       "      <td>0.702550</td>\n",
       "      <td>0.620690</td>\n",
       "    </tr>\n",
       "    <tr>\n",
       "      <td>8</td>\n",
       "      <td>0.167100</td>\n",
       "      <td>0.992968</td>\n",
       "      <td>0.002000</td>\n",
       "      <td>0.736544</td>\n",
       "      <td>0.742513</td>\n",
       "      <td>0.757655</td>\n",
       "      <td>0.736544</td>\n",
       "      <td>0.751724</td>\n",
       "    </tr>\n",
       "    <tr>\n",
       "      <td>9</td>\n",
       "      <td>0.096000</td>\n",
       "      <td>1.102529</td>\n",
       "      <td>0.002000</td>\n",
       "      <td>0.770538</td>\n",
       "      <td>0.775498</td>\n",
       "      <td>0.788973</td>\n",
       "      <td>0.770538</td>\n",
       "      <td>0.772414</td>\n",
       "    </tr>\n",
       "    <tr>\n",
       "      <td>10</td>\n",
       "      <td>0.107400</td>\n",
       "      <td>1.202509</td>\n",
       "      <td>0.002000</td>\n",
       "      <td>0.736544</td>\n",
       "      <td>0.741131</td>\n",
       "      <td>0.752042</td>\n",
       "      <td>0.736544</td>\n",
       "      <td>0.744828</td>\n",
       "    </tr>\n",
       "  </tbody>\n",
       "</table><p>"
      ],
      "text/plain": [
       "<IPython.core.display.HTML object>"
      ]
     },
     "metadata": {},
     "output_type": "display_data"
    },
    {
     "name": "stdout",
     "output_type": "stream",
     "text": [
      "\n",
      "✅ Training completato!\n",
      "   Tempo totale: 3.8 minuti\n",
      "💾 Modello salvato in: ./final_bert_model\n",
      "💾 Modello salvato in: ./final_bert_model\n"
     ]
    }
   ],
   "source": [
    "# Inizializza il Trainer\n",
    "print(\"🔧 Inizializzazione Trainer...\")\n",
    "trainer = Trainer(\n",
    "    model=model,\n",
    "    args=training_args,\n",
    "    train_dataset=bert_train_dataset,\n",
    "    eval_dataset=bert_test_dataset,\n",
    "    tokenizer=tokenizer,\n",
    "    data_collator=data_collator,\n",
    "    compute_metrics=compute_metrics,\n",
    ")\n",
    "\n",
    "print(f\"✅ Trainer inizializzato\")\n",
    "print(f\"   Modello: {type(trainer.model).__name__}\")\n",
    "print(f\"   Training dataset: {len(trainer.train_dataset)} campioni\")\n",
    "print(f\"   Eval dataset: {len(trainer.eval_dataset)} campioni\")\n",
    "\n",
    "# Prima di iniziare il training, mostra una valutazione baseline\n",
    "print(\"\\n📊 Valutazione BASELINE (modello non fine-tuned):\")\n",
    "baseline_metrics = trainer.evaluate()\n",
    "for key, value in baseline_metrics.items():\n",
    "    if key.startswith('eval_'):\n",
    "        metric_name = key.replace('eval_', '')\n",
    "        if isinstance(value, float):\n",
    "            print(f\"   {metric_name}: {value:.4f}\")\n",
    "\n",
    "print(f\"\\n🚀 Avvio training BERT...\")\n",
    "print(f\"   Questo potrebbe richiedere diversi minuti...\")\n",
    "print(f\"   Device: {device}\")\n",
    "\n",
    "# Avvia il training\n",
    "import time\n",
    "start_time = time.time()\n",
    "\n",
    "try:\n",
    "    trainer.train()\n",
    "    training_time = time.time() - start_time\n",
    "    print(f\"\\n✅ Training completato!\")\n",
    "    print(f\"   Tempo totale: {training_time/60:.1f} minuti\")\n",
    "    \n",
    "    # Salva il modello finale\n",
    "    trainer.save_model(\"./final_bert_model\")\n",
    "    tokenizer.save_pretrained(\"./final_bert_model\")\n",
    "    print(f\"💾 Modello salvato in: ./final_bert_model\")\n",
    "    \n",
    "except Exception as e:\n",
    "    print(f\"❌ Errore durante il training: {e}\")\n",
    "    raise"
   ]
  },
  {
   "cell_type": "markdown",
   "id": "a5144dcc",
   "metadata": {},
   "source": [
    "### 📊 Valutazione Finale BERT"
   ]
  },
  {
   "cell_type": "code",
   "execution_count": 26,
   "id": "a1d03984",
   "metadata": {},
   "outputs": [
    {
     "name": "stdout",
     "output_type": "stream",
     "text": [
      "📈 Valutazione finale del modello BERT fine-tuned:\n"
     ]
    },
    {
     "data": {
      "text/html": [],
      "text/plain": [
       "<IPython.core.display.HTML object>"
      ]
     },
     "metadata": {},
     "output_type": "display_data"
    },
    {
     "name": "stdout",
     "output_type": "stream",
     "text": [
      "   loss: 0.6185\n",
      "   model_preparation_time: 0.0020\n",
      "   accuracy: 0.7762\n",
      "   f1: 0.7796\n",
      "   precision: 0.7880\n",
      "   recall: 0.7762\n",
      "   recall_toxic: 0.7793\n",
      "   runtime: 1.0741\n",
      "   samples_per_second: 328.6410\n",
      "   steps_per_second: 21.4130\n",
      "\n",
      "🔮 Generazione predizioni sul test set...\n",
      "📊 Classification Report BERT:\n",
      "              precision    recall  f1-score   support\n",
      "\n",
      "       Toxic       0.89      0.78      0.83       145\n",
      "     Neutral       0.64      0.73      0.68       114\n",
      "     Healthy       0.81      0.83      0.82        94\n",
      "\n",
      "    accuracy                           0.78       353\n",
      "   macro avg       0.78      0.78      0.78       353\n",
      "weighted avg       0.79      0.78      0.78       353\n",
      "\n",
      "\n",
      "🔥 Confusion Matrix BERT:\n",
      "📊 Classification Report BERT:\n",
      "              precision    recall  f1-score   support\n",
      "\n",
      "       Toxic       0.89      0.78      0.83       145\n",
      "     Neutral       0.64      0.73      0.68       114\n",
      "     Healthy       0.81      0.83      0.82        94\n",
      "\n",
      "    accuracy                           0.78       353\n",
      "   macro avg       0.78      0.78      0.78       353\n",
      "weighted avg       0.79      0.78      0.78       353\n",
      "\n",
      "\n",
      "🔥 Confusion Matrix BERT:\n"
     ]
    },
    {
     "data": {
      "image/png": "[encoded data removed]",
      "text/plain": [
       "<Figure size 900x700 with 2 Axes>"
      ]
     },
     "metadata": {},
     "output_type": "display_data"
    },
    {
     "name": "stdout",
     "output_type": "stream",
     "text": [
      "\n",
      "✨ Risultati BERT per confronto:\n",
      "   Modello utilizzato: FacebookAI/xlm-roberta-base\n",
      "   Test Accuracy: 0.7762\n",
      "   Test Recall Toxic: 0.7793\n",
      "   Test F1-Score: 0.7796\n",
      "   Configurazione: Epochs=10, LR=2e-05, MaxLen=256\n",
      "\n",
      "⚠️ Variabile 'risultati_grid_search' non trovata. Esegui prima le Grid Search tradizionali.\n"
     ]
    }
   ],
   "source": [
    "# Valutazione finale del modello fine-tuned\n",
    "print(\"📈 Valutazione finale del modello BERT fine-tuned:\")\n",
    "final_metrics = trainer.evaluate()\n",
    "\n",
    "# Estrai e formatta le metriche\n",
    "bert_results = {}\n",
    "for key, value in final_metrics.items():\n",
    "    if key.startswith('eval_'):\n",
    "        metric_name = key.replace('eval_', '')\n",
    "        bert_results[metric_name] = value\n",
    "        if isinstance(value, float):\n",
    "            print(f\"   {metric_name}: {value:.4f}\")\n",
    "\n",
    "# Predizioni sul test set per confusion matrix\n",
    "print(f\"\\n🔮 Generazione predizioni sul test set...\")\n",
    "predictions = trainer.predict(bert_test_dataset)\n",
    "y_pred_bert = np.argmax(predictions.predictions, axis=1)\n",
    "y_true_bert = predictions.label_ids\n",
    "\n",
    "print(f\"📊 Classification Report BERT:\")\n",
    "print(classification_report(y_true_bert, y_pred_bert, target_names=TARGET_NAMES, zero_division=0))\n",
    "\n",
    "# Confusion Matrix\n",
    "print(f\"\\n🔥 Confusion Matrix BERT:\")\n",
    "plot_confusion_matrix_heatmap(y_true_bert, y_pred_bert, TARGET_NAMES, \n",
    "                             title=f\"BERT {SELECTED_BERT_MODEL.split('/')[-1]} Fine-tuned\")\n",
    "\n",
    "# Calcola recall toxic manualmente per coerenza con gli altri modelli\n",
    "test_recall_toxic_manual = recall_score(y_true_bert, y_pred_bert, labels=[0], zero_division=0, average='macro')\n",
    "\n",
    "# Calcola metriche specifiche per confronto\n",
    "bert_final_results = {\n",
    "    'model_type': f'BERT_{SELECTED_BERT_MODEL.split(\"/\")[-1]}',  # Nome specifico del modello\n",
    "    'best_cv_score': bert_results.get('accuracy', 0.0),  # Accuracy come metrica di selezione\n",
    "    'test_recall_toxic': test_recall_toxic_manual,  # Calcolata manualmente per coerenza\n",
    "    'test_accuracy': bert_results.get('accuracy', 0.0),\n",
    "    'test_f1': bert_results.get('f1', 0.0),\n",
    "    'y_pred': y_pred_bert,\n",
    "    'y_test': y_true_bert,\n",
    "    'best_params': f'model: {SELECTED_BERT_MODEL}, epochs: {NUM_EPOCHS}, lr: {LEARNING_RATE}'\n",
    "}\n",
    "\n",
    "print(f\"\\n✨ Risultati BERT per confronto:\")\n",
    "print(f\"   Modello utilizzato: {SELECTED_BERT_MODEL}\")\n",
    "print(f\"   Test Accuracy: {bert_final_results['test_accuracy']:.4f}\")\n",
    "print(f\"   Test Recall Toxic: {bert_final_results['test_recall_toxic']:.4f}\")\n",
    "print(f\"   Test F1-Score: {bert_final_results['test_f1']:.4f}\")\n",
    "print(f\"   Configurazione: Epochs={NUM_EPOCHS}, LR={LEARNING_RATE}, MaxLen={MAX_LENGTH}\")\n",
    "\n",
    "# Salva i risultati BERT per confronto con gli altri modelli\n",
    "if 'risultati_grid_search' in locals():\n",
    "    risultati_grid_search[f'BERT_{SELECTED_BERT_MODEL.split(\"/\")[-1]}'] = bert_final_results\n",
    "    print(f\"\\n✅ Risultati BERT aggiunti per confronto finale!\")\n",
    "    \n",
    "    # Confronto finale aggiornato con BERT\n",
    "    print(f\"\\n🏆 CONFRONTO FINALE CON BERT:\")\n",
    "    confronta_grid_search_results(risultati_grid_search)\n",
    "else:\n",
    "    print(f\"\\n⚠️ Variabile 'risultati_grid_search' non trovata. Esegui prima le Grid Search tradizionali.\")"
   ]
  }
 ],
 "metadata": {
  "kernelspec": {
   "display_name": "Python 3",
   "language": "python",
   "name": "python3"
  },
  "language_info": {
   "codemirror_mode": {
    "name": "ipython",
    "version": 3
   },
   "file_extension": ".py",
   "mimetype": "text/x-python",
   "name": "python",
   "nbconvert_exporter": "python",
   "pygments_lexer": "ipython3",
   "version": "3.12.3"
  }
 },
 "nbformat": 4,
 "nbformat_minor": 5
}
