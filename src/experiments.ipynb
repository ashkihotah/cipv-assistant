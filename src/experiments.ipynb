{
 "cells": [
  {
   "cell_type": "code",
   "execution_count": 19,
   "id": "55f0c9c0",
   "metadata": {},
   "outputs": [],
   "source": [
    "import os\n",
    "import re\n",
    "from transformers import AutoTokenizer\n",
    "import numpy as np"
   ]
  },
  {
   "cell_type": "code",
   "execution_count": 4,
   "id": "2dfb8478",
   "metadata": {},
   "outputs": [],
   "source": [
    "top_regex = re.compile(r\"(?P<stage>Stage: .+)\\nChat Polarity Mean: (?:-?|\\+?)\\d\\.?\\d?\\d?\\nChat Polarity Variance: \\d\\.?\\d?\\d?\\n(?P<event>Event: .+)\\n\\n(?P<chat>(?:.+|\\n+)+)\")\n",
    "msgs_regex = re.compile(r\"(?P<message>(?P<timestamp>\\d\\d\\d\\d-\\d\\d-\\d\\d \\d\\d:\\d\\d:\\d\\d) \\| (?P<name>.+):\\n(?P<content>.+)\\nPolarity: (?P<polarity>(?:-?|\\+?)\\d\\.?\\d?\\d?)\\n\\[(?P<tag_explanation>Tag: (?P<tag>.+)\\nSpiegazione: (?P<explanation>.+))\\])\")"
   ]
  },
  {
   "cell_type": "code",
   "execution_count": 5,
   "id": "2e747c60",
   "metadata": {},
   "outputs": [],
   "source": [
    "tokenizer_bert = AutoTokenizer.from_pretrained(\"bert-base-uncased\")\n",
    "tokenizer_bart = AutoTokenizer.from_pretrained(\"facebook/bart-base\")"
   ]
  },
  {
   "cell_type": "code",
   "execution_count": 37,
   "id": "0032e196",
   "metadata": {},
   "outputs": [
    {
     "name": "stdout",
     "output_type": "stream",
     "text": [
      "BERT Max Token Count: 1128, Min Token Count: 0\n",
      "BERT Mean Token Count: 476.98\n",
      "BERT Variance Token Count: 269.57\n",
      "BERT Over 512 Tokens: 88 / 172\n",
      "\n",
      "BART Max Token Count: 1156, Min Token Count: 0\n",
      "BART Mean Token Count: 494.01\n",
      "BART Variance Token Count: 278.74\n",
      "BART Over 1024 Tokens: 2 / 172\n",
      "\n",
      "Polarities Mean: nan\n",
      "Polarities Variance: nan\n"
     ]
    },
    {
     "ename": "ValueError",
     "evalue": "zero-size array to reduction operation minimum which has no identity",
     "output_type": "error",
     "traceback": [
      "\u001b[1;31m---------------------------------------------------------------------------\u001b[0m",
      "\u001b[1;31mValueError\u001b[0m                                Traceback (most recent call last)",
      "Cell \u001b[1;32mIn[37], line 54\u001b[0m\n\u001b[0;32m     52\u001b[0m \u001b[38;5;28mprint\u001b[39m(\u001b[38;5;124mf\u001b[39m\u001b[38;5;124m\"\u001b[39m\u001b[38;5;124mPolarities Mean: \u001b[39m\u001b[38;5;132;01m{\u001b[39;00mnp\u001b[38;5;241m.\u001b[39mmean(polarities_v)\u001b[38;5;132;01m:\u001b[39;00m\u001b[38;5;124m.2f\u001b[39m\u001b[38;5;132;01m}\u001b[39;00m\u001b[38;5;124m\"\u001b[39m)\n\u001b[0;32m     53\u001b[0m \u001b[38;5;28mprint\u001b[39m(\u001b[38;5;124mf\u001b[39m\u001b[38;5;124m\"\u001b[39m\u001b[38;5;124mPolarities Variance: \u001b[39m\u001b[38;5;132;01m{\u001b[39;00mnp\u001b[38;5;241m.\u001b[39mstd(polarities_v)\u001b[38;5;132;01m:\u001b[39;00m\u001b[38;5;124m.2f\u001b[39m\u001b[38;5;132;01m}\u001b[39;00m\u001b[38;5;124m\"\u001b[39m)\n\u001b[1;32m---> 54\u001b[0m \u001b[38;5;28mprint\u001b[39m(\u001b[38;5;124mf\u001b[39m\u001b[38;5;124m\"\u001b[39m\u001b[38;5;124mPolarities Min: \u001b[39m\u001b[38;5;132;01m{\u001b[39;00m\u001b[43mnp\u001b[49m\u001b[38;5;241;43m.\u001b[39;49m\u001b[43mmin\u001b[49m\u001b[43m(\u001b[49m\u001b[43mpolarities_v\u001b[49m\u001b[43m)\u001b[49m\u001b[38;5;132;01m:\u001b[39;00m\u001b[38;5;124m.2f\u001b[39m\u001b[38;5;132;01m}\u001b[39;00m\u001b[38;5;124m\"\u001b[39m)\n\u001b[0;32m     55\u001b[0m \u001b[38;5;28mprint\u001b[39m(\u001b[38;5;124mf\u001b[39m\u001b[38;5;124m\"\u001b[39m\u001b[38;5;124mPolarities Max: \u001b[39m\u001b[38;5;132;01m{\u001b[39;00mnp\u001b[38;5;241m.\u001b[39mmax(polarities_v)\u001b[38;5;132;01m:\u001b[39;00m\u001b[38;5;124m.2f\u001b[39m\u001b[38;5;132;01m}\u001b[39;00m\u001b[38;5;124m\"\u001b[39m)\n\u001b[0;32m     56\u001b[0m \u001b[38;5;28mprint\u001b[39m(\u001b[38;5;124mf\u001b[39m\u001b[38;5;124m\"\u001b[39m\u001b[38;5;124mPolarities Over 0: \u001b[39m\u001b[38;5;132;01m{\u001b[39;00m\u001b[38;5;28mlen\u001b[39m(polarities_v[polarities_v\u001b[38;5;250m \u001b[39m\u001b[38;5;241m>\u001b[39m\u001b[38;5;250m \u001b[39m\u001b[38;5;241m0\u001b[39m])\u001b[38;5;132;01m}\u001b[39;00m\u001b[38;5;124m / \u001b[39m\u001b[38;5;132;01m{\u001b[39;00mpolarities_v\u001b[38;5;241m.\u001b[39mshape[\u001b[38;5;241m0\u001b[39m]\u001b[38;5;132;01m}\u001b[39;00m\u001b[38;5;124m\"\u001b[39m)\n",
      "File \u001b[1;32m~\\AppData\\Roaming\\Python\\Python311\\site-packages\\numpy\\_core\\fromnumeric.py:3042\u001b[0m, in \u001b[0;36mmin\u001b[1;34m(a, axis, out, keepdims, initial, where)\u001b[0m\n\u001b[0;32m   2925\u001b[0m \u001b[38;5;129m@array_function_dispatch\u001b[39m(_min_dispatcher)\n\u001b[0;32m   2926\u001b[0m \u001b[38;5;28;01mdef\u001b[39;00m \u001b[38;5;21mmin\u001b[39m(a, axis\u001b[38;5;241m=\u001b[39m\u001b[38;5;28;01mNone\u001b[39;00m, out\u001b[38;5;241m=\u001b[39m\u001b[38;5;28;01mNone\u001b[39;00m, keepdims\u001b[38;5;241m=\u001b[39mnp\u001b[38;5;241m.\u001b[39m_NoValue, initial\u001b[38;5;241m=\u001b[39mnp\u001b[38;5;241m.\u001b[39m_NoValue,\n\u001b[0;32m   2927\u001b[0m         where\u001b[38;5;241m=\u001b[39mnp\u001b[38;5;241m.\u001b[39m_NoValue):\n\u001b[0;32m   2928\u001b[0m \u001b[38;5;250m    \u001b[39m\u001b[38;5;124;03m\"\"\"\u001b[39;00m\n\u001b[0;32m   2929\u001b[0m \u001b[38;5;124;03m    Return the minimum of an array or minimum along an axis.\u001b[39;00m\n\u001b[0;32m   2930\u001b[0m \n\u001b[1;32m   (...)\u001b[0m\n\u001b[0;32m   3040\u001b[0m \u001b[38;5;124;03m    6\u001b[39;00m\n\u001b[0;32m   3041\u001b[0m \u001b[38;5;124;03m    \"\"\"\u001b[39;00m\n\u001b[1;32m-> 3042\u001b[0m     \u001b[38;5;28;01mreturn\u001b[39;00m \u001b[43m_wrapreduction\u001b[49m\u001b[43m(\u001b[49m\u001b[43ma\u001b[49m\u001b[43m,\u001b[49m\u001b[43m \u001b[49m\u001b[43mnp\u001b[49m\u001b[38;5;241;43m.\u001b[39;49m\u001b[43mminimum\u001b[49m\u001b[43m,\u001b[49m\u001b[43m \u001b[49m\u001b[38;5;124;43m'\u001b[39;49m\u001b[38;5;124;43mmin\u001b[39;49m\u001b[38;5;124;43m'\u001b[39;49m\u001b[43m,\u001b[49m\u001b[43m \u001b[49m\u001b[43maxis\u001b[49m\u001b[43m,\u001b[49m\u001b[43m \u001b[49m\u001b[38;5;28;43;01mNone\u001b[39;49;00m\u001b[43m,\u001b[49m\u001b[43m \u001b[49m\u001b[43mout\u001b[49m\u001b[43m,\u001b[49m\n\u001b[0;32m   3043\u001b[0m \u001b[43m                          \u001b[49m\u001b[43mkeepdims\u001b[49m\u001b[38;5;241;43m=\u001b[39;49m\u001b[43mkeepdims\u001b[49m\u001b[43m,\u001b[49m\u001b[43m \u001b[49m\u001b[43minitial\u001b[49m\u001b[38;5;241;43m=\u001b[39;49m\u001b[43minitial\u001b[49m\u001b[43m,\u001b[49m\u001b[43m \u001b[49m\u001b[43mwhere\u001b[49m\u001b[38;5;241;43m=\u001b[39;49m\u001b[43mwhere\u001b[49m\u001b[43m)\u001b[49m\n",
      "File \u001b[1;32m~\\AppData\\Roaming\\Python\\Python311\\site-packages\\numpy\\_core\\fromnumeric.py:86\u001b[0m, in \u001b[0;36m_wrapreduction\u001b[1;34m(obj, ufunc, method, axis, dtype, out, **kwargs)\u001b[0m\n\u001b[0;32m     83\u001b[0m         \u001b[38;5;28;01melse\u001b[39;00m:\n\u001b[0;32m     84\u001b[0m             \u001b[38;5;28;01mreturn\u001b[39;00m reduction(axis\u001b[38;5;241m=\u001b[39maxis, out\u001b[38;5;241m=\u001b[39mout, \u001b[38;5;241m*\u001b[39m\u001b[38;5;241m*\u001b[39mpasskwargs)\n\u001b[1;32m---> 86\u001b[0m \u001b[38;5;28;01mreturn\u001b[39;00m \u001b[43mufunc\u001b[49m\u001b[38;5;241;43m.\u001b[39;49m\u001b[43mreduce\u001b[49m\u001b[43m(\u001b[49m\u001b[43mobj\u001b[49m\u001b[43m,\u001b[49m\u001b[43m \u001b[49m\u001b[43maxis\u001b[49m\u001b[43m,\u001b[49m\u001b[43m \u001b[49m\u001b[43mdtype\u001b[49m\u001b[43m,\u001b[49m\u001b[43m \u001b[49m\u001b[43mout\u001b[49m\u001b[43m,\u001b[49m\u001b[43m \u001b[49m\u001b[38;5;241;43m*\u001b[39;49m\u001b[38;5;241;43m*\u001b[39;49m\u001b[43mpasskwargs\u001b[49m\u001b[43m)\u001b[49m\n",
      "\u001b[1;31mValueError\u001b[0m: zero-size array to reduction operation minimum which has no identity"
     ]
    }
   ],
   "source": [
    "path = \"../rsc/gemini-2.5-flash-dataset_2025-07-07-10-45-16/chats\"\n",
    "dirs = os.listdir(path)\n",
    "bert_lengths = []\n",
    "bart_lengths = []\n",
    "polarities = []\n",
    "for directory in dirs:\n",
    "    files = os.listdir(os.path.join(path, directory))\n",
    "    for file in files:\n",
    "        bert_count = 0\n",
    "        bart_count = 0\n",
    "        polarity_sum = 0\n",
    "        with open(os.path.join(path, directory, file), \"r\", encoding=\"utf-8\") as f:\n",
    "            content = f.read()\n",
    "            match = top_regex.match(content)\n",
    "            if match:\n",
    "                chat = match.group(\"chat\")\n",
    "                messages = msgs_regex.finditer(chat)\n",
    "                total = 0\n",
    "                for message in messages:\n",
    "                    content = message.group(\"content\")\n",
    "                    if content:\n",
    "                        bert_tokens = tokenizer_bert.encode(content, add_special_tokens=True)\n",
    "                        bart_tokens = tokenizer_bart.encode(content, add_special_tokens=True)\n",
    "                        bert_count += len(bert_tokens)\n",
    "                        bart_count += len(bart_tokens)\n",
    "                    polarity_sum += float(message.group(\"polarity\"))\n",
    "                    total += 1\n",
    "                # try:\n",
    "                #     polarities.append(polarity_sum / total)\n",
    "                # except ZeroDivisionError:\n",
    "                #     print(f\"ZeroDivisionError in file: {file}\")\n",
    "                bert_lengths.append(bert_count)\n",
    "                bart_lengths.append(bart_count)\n",
    "            else:\n",
    "                print(f\"No match found in file: {os.path.join(path, directory, file)}\")\n",
    "            \n",
    "\n",
    "bert_v = np.array(bert_lengths)\n",
    "bart_v = np.array(bart_lengths)\n",
    "polarities_v = np.array(polarities)\n",
    "\n",
    "print(f\"BERT Max Token Count: {np.max(bert_v)}, Min Token Count: {np.min(bert_v)}\")\n",
    "print(f\"BERT Mean Token Count: {np.mean(bert_v):.2f}\")\n",
    "print(f\"BERT Variance Token Count: {np.std(bert_v):.2f}\")\n",
    "print(f\"BERT Over 512 Tokens: {len(bert_v[bert_v > 512])} / {bert_v.shape[0]}\\n\")\n",
    "\n",
    "print(f\"BART Max Token Count: {np.max(bart_v)}, Min Token Count: {np.min(bart_v)}\")\n",
    "print(f\"BART Mean Token Count: {np.mean(bart_v):.2f}\")\n",
    "print(f\"BART Variance Token Count: {np.std(bart_v):.2f}\")\n",
    "print(f\"BART Over 1024 Tokens: {len(bart_v[bart_v > 1024])} / {bart_v.shape[0]}\\n\")\n",
    "\n",
    "print(f\"Polarities Mean: {np.mean(polarities_v):.2f}\")\n",
    "print(f\"Polarities Variance: {np.std(polarities_v):.2f}\")\n",
    "print(f\"Polarities Min: {np.min(polarities_v):.2f}\")\n",
    "print(f\"Polarities Max: {np.max(polarities_v):.2f}\")\n",
    "print(f\"Polarities Over 0: {len(polarities_v[polarities_v > 0])} / {polarities_v.shape[0]}\")\n",
    "print(f\"Polarities Under 0: {len(polarities_v[polarities_v < 0])} / {polarities_v.shape[0]}\")\n",
    "print(f\"Polarities Around 0: {len(polarities_v[np.logical_and(polarities_v < 0.5, polarities_v > -0.5)])} / {polarities_v.shape[0]}\")"
   ]
  }
 ],
 "metadata": {
  "kernelspec": {
   "display_name": "Python 3",
   "language": "python",
   "name": "python3"
  },
  "language_info": {
   "codemirror_mode": {
    "name": "ipython",
    "version": 3
   },
   "file_extension": ".py",
   "mimetype": "text/x-python",
   "name": "python",
   "nbconvert_exporter": "python",
   "pygments_lexer": "ipython3",
   "version": "3.11.9"
  }
 },
 "nbformat": 4,
 "nbformat_minor": 5
}
