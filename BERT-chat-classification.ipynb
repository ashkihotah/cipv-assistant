{
 "cells": [
  {
   "cell_type": "markdown",
   "id": "59bae597",
   "metadata": {},
   "source": [
    "# 📦 Importing Packages"
   ]
  },
  {
   "cell_type": "code",
   "execution_count": 28,
   "id": "3d8a1bbd",
   "metadata": {},
   "outputs": [],
   "source": [
    "import os\n",
    "import re\n",
    "import shutil\n",
    "from datetime import datetime\n",
    "from collections import defaultdict\n",
    "\n",
    "import torch\n",
    "import numpy as np\n",
    "import matplotlib.pyplot as plt\n",
    "from tqdm.auto import tqdm\n",
    "import pandas as pd\n",
    "\n",
    "from datasets import Dataset\n",
    "from transformers import (\n",
    "    AutoTokenizer,\n",
    "    AutoModelForSequenceClassification,\n",
    "    Trainer,\n",
    "    TrainingArguments,\n",
    "    DataCollatorWithPadding,\n",
    "    EarlyStoppingCallback\n",
    ")\n",
    "\n",
    "from sklearn.metrics import (\n",
    "    f1_score,\n",
    "    precision_score,\n",
    "    recall_score,\n",
    "    accuracy_score,\n",
    "    classification_report\n",
    ")"
   ]
  },
  {
   "cell_type": "markdown",
   "id": "4ad7dc38",
   "metadata": {},
   "source": [
    "# ⚙️ Global Settings"
   ]
  },
  {
   "cell_type": "code",
   "execution_count": 29,
   "id": "e560795f",
   "metadata": {},
   "outputs": [
    {
     "name": "stdout",
     "output_type": "stream",
     "text": [
      "GPU: NVIDIA GeForce RTX 3060 Laptop GPU\n",
      "VRAM: 6.0 GB\n"
     ]
    }
   ],
   "source": [
    "device = torch.device('cuda' if torch.cuda.is_available() else 'cpu')\n",
    "if torch.cuda.is_available():\n",
    "    print(f\"GPU: {torch.cuda.get_device_name(0)}\")\n",
    "    print(f\"VRAM: {torch.cuda.get_device_properties(0).total_memory / 1024**3:.1f} GB\")\n",
    "else:\n",
    "    print(\"No GPU available, using CPU.\")"
   ]
  },
  {
   "cell_type": "code",
   "execution_count": 30,
   "id": "c9b7ac96",
   "metadata": {},
   "outputs": [],
   "source": [
    "if os.path.exists(\"/kaggle\"):\n",
    "    # Clean up the entire /kaggle/working directory\n",
    "    shutil.rmtree(\"/kaggle/working\", ignore_errors=True)\n",
    "    os.makedirs(\"/kaggle/working\", exist_ok=True)"
   ]
  },
  {
   "cell_type": "markdown",
   "id": "2b8a6514",
   "metadata": {},
   "source": [
    "## Hyper-Parameters"
   ]
  },
  {
   "cell_type": "code",
   "execution_count": null,
   "id": "1481b1ed",
   "metadata": {},
   "outputs": [],
   "source": [
    "SELECTED_BERT_MODEL = 'dbmdz/bert-base-italian-cased' #110M\n",
    "# SELECTED_BERT_MODEL = 'FacebookAI/xlm-roberta-base' # 278M\n",
    "# SELECTED_BERT_MODEL = 'Musixmatch/umberto-commoncrawl-cased-v1' #110M\n",
    "DATASET_TYPE = 'toxicity'\n",
    "\n",
    "TASK = 'binary'  # 'binary' or 'multiclass'\n",
    "\n",
    "if TASK == 'binary':\n",
    "    POLARITY_BINS = [-1.01, 0.35, 1.01]\n",
    "    POLARITY_LABELS = [0, 1]  # 0: Toxic, 1: Healthy\n",
    "    TARGET_NAMES = ['Toxic', 'Healthy']\n",
    "    NUM_LABELS = 2\n",
    "else:\n",
    "    POLARITY_BINS = [-1.01, -0.35, 0.35, 1.01]\n",
    "    POLARITY_LABELS = [0, 1, 2]\n",
    "    TARGET_NAMES = ['Toxic', 'Neutral', 'Healthy']\n",
    "    NUM_LABELS = 3\n",
    "\n",
    "WITH_SEP_TOKENS = True\n",
    "WITH_TOKEN_TYPE_IDS = True\n",
    "\n",
    "BATCH_SIZE = 32\n",
    "NUM_EPOCHS = 30\n",
    "GRADIENT_ACCUMULATION_STEPS = 4\n",
    "WARMUP_PERCENTAGE = 0.2\n",
    "NUM_WORKERS = 2\n",
    "SAVE_TOTAL_LIMIT = 2\n",
    "\n",
    "LEARNING_RATE = 3e-5\n",
    "WEIGHT_DECAY = 0.001\n",
    "MAX_LENGTH = 512"
   ]
  },
  {
   "cell_type": "markdown",
   "id": "17dfdf19",
   "metadata": {},
   "source": [
    "## Paths Settings"
   ]
  },
  {
   "cell_type": "code",
   "execution_count": null,
   "id": "bb95e902",
   "metadata": {},
   "outputs": [],
   "source": [
    "timestamp = datetime.now().strftime(\"%Y-%m-%d_%H-%M-%S\")\n",
    "MODEL_SHORT_NAME = SELECTED_BERT_MODEL.split('/')[-1]\n",
    "\n",
    "if os.path.exists(\"/kaggle\"):\n",
    "    # ==== KAGGLE SETTINGS ====\n",
    "    PATH = os.path.join(os.sep, \"kaggle\", \"input\", f\"cipv-chats-{DATASET_TYPE}\")\n",
    "    OUT_DIR = os.path.join(os.sep, \"kaggle\", \"working\", f\"{timestamp}-{MODEL_SHORT_NAME}-Sep_{WITH_SEP_TOKENS}-Type_{WITH_TOKEN_TYPE_IDS}\")\n",
    "else:\n",
    "    # ==== LOCAL SETTINGS ====\n",
    "    PATH = os.path.join(\".\", \"out\", \"datasets\", f\"cipv-chats-{DATASET_TYPE}\", \"chats\")\n",
    "    OUT_DIR = os.path.join(\".\", 'out', DATASET_TYPE, f'entire-chat-{TASK}-classification', f'{timestamp}-{MODEL_SHORT_NAME}-Sep_{WITH_SEP_TOKENS}-Type_{WITH_TOKEN_TYPE_IDS}')\n",
    "\n",
    "RESULTS_PATH = os.path.join(OUT_DIR, \"results\")"
   ]
  },
  {
   "cell_type": "markdown",
   "id": "28835025",
   "metadata": {},
   "source": [
    "## Plots Utilities"
   ]
  },
  {
   "cell_type": "code",
   "execution_count": 33,
   "id": "674b0e43",
   "metadata": {},
   "outputs": [],
   "source": [
    "def plot_losses(log_history, out_dir):\n",
    "    os.makedirs(out_dir, exist_ok=True)\n",
    "\n",
    "    # Extract logs with 'epoch', 'loss', and 'eval_loss'\n",
    "    train_logs = [log for log in log_history if 'epoch' in log and 'loss' in log]\n",
    "    eval_logs = [log for log in log_history if 'epoch' in log and 'eval_loss' in log]\n",
    "\n",
    "    # Convert to DataFrames for easy grouping\n",
    "    train_df = pd.DataFrame(train_logs)\n",
    "    eval_df = pd.DataFrame(eval_logs)\n",
    "\n",
    "    # Group by epoch and compute mean loss per epoch\n",
    "    train_epoch_loss = train_df.groupby('epoch')['loss'].mean()\n",
    "    eval_epoch_loss = eval_df.groupby('epoch')['eval_loss'].mean()\n",
    "\n",
    "    plt.figure(figsize=(7, 5))\n",
    "    plt.plot(train_epoch_loss.index, train_epoch_loss.values, 'g-o', label='Train Loss')\n",
    "    plt.plot(eval_epoch_loss.index, eval_epoch_loss.values, 'c-o', label='Eval Loss')\n",
    "    plt.xlabel('Epochs')\n",
    "    plt.ylabel('Loss')\n",
    "    plt.title('Losses Over Epochs')\n",
    "    plt.legend()\n",
    "    plt.grid(True)\n",
    "    plt.tight_layout()\n",
    "    plt.savefig(os.path.join(out_dir, \"learning_curve.png\"))\n",
    "    plt.show()\n",
    "    plt.close()"
   ]
  },
  {
   "cell_type": "markdown",
   "id": "a8b6021d",
   "metadata": {},
   "source": [
    "# 📂 Dataset Loading"
   ]
  },
  {
   "cell_type": "code",
   "execution_count": 34,
   "id": "e8a3ceed",
   "metadata": {},
   "outputs": [
    {
     "data": {
      "application/vnd.jupyter.widget-view+json": {
       "model_id": "36f54608ca4d42849268944ad5c460d7",
       "version_major": 2,
       "version_minor": 0
      },
      "text/plain": [
       "📂 Loading Dataset:   0%|          | 0/11 [00:00<?, ?it/s]"
      ]
     },
     "metadata": {},
     "output_type": "display_data"
    },
    {
     "data": {
      "application/vnd.jupyter.widget-view+json": {
       "model_id": "ffd145d2495d4e8590879f3f158d4a0a",
       "version_major": 2,
       "version_minor": 0
      },
      "text/plain": [
       "📂 Loading Directory: .\\out\\datasets\\cipv-chats-toxicity\\chats\\gemini-2.0-flash-dataset_2025-07-09-15-56-22:   …"
      ]
     },
     "metadata": {},
     "output_type": "display_data"
    },
    {
     "data": {
      "application/vnd.jupyter.widget-view+json": {
       "model_id": "38fb96a4eb544af0865df0ea6d951a7a",
       "version_major": 2,
       "version_minor": 0
      },
      "text/plain": [
       "📂 Loading Directory: .\\out\\datasets\\cipv-chats-toxicity\\chats\\gemini-2.5-flash-dataset_2025-07-07-10-45-16:   …"
      ]
     },
     "metadata": {},
     "output_type": "display_data"
    },
    {
     "data": {
      "application/vnd.jupyter.widget-view+json": {
       "model_id": "a76a852d3b2f405fbb18e410a675d67b",
       "version_major": 2,
       "version_minor": 0
      },
      "text/plain": [
       "📂 Loading Directory: .\\out\\datasets\\cipv-chats-toxicity\\chats\\gemini-2.5-flash-dataset_2025-07-08-20-06-22:   …"
      ]
     },
     "metadata": {},
     "output_type": "display_data"
    },
    {
     "data": {
      "application/vnd.jupyter.widget-view+json": {
       "model_id": "0b1e6088404d400abfdcb2309f3eecad",
       "version_major": 2,
       "version_minor": 0
      },
      "text/plain": [
       "📂 Loading Directory: .\\out\\datasets\\cipv-chats-toxicity\\chats\\gemini-2.5-flash-dataset_2025-07-16-09-07-33:   …"
      ]
     },
     "metadata": {},
     "output_type": "display_data"
    },
    {
     "data": {
      "application/vnd.jupyter.widget-view+json": {
       "model_id": "bb5b67bb94cf4cbc896d23ad430afa66",
       "version_major": 2,
       "version_minor": 0
      },
      "text/plain": [
       "📂 Loading Directory: .\\out\\datasets\\cipv-chats-toxicity\\chats\\gemini-2.5-flash-dataset_2025-07-19-14-42-59:   …"
      ]
     },
     "metadata": {},
     "output_type": "display_data"
    },
    {
     "data": {
      "application/vnd.jupyter.widget-view+json": {
       "model_id": "632964a8e7a44c38bf1ac8150fd2e836",
       "version_major": 2,
       "version_minor": 0
      },
      "text/plain": [
       "📂 Loading Directory: .\\out\\datasets\\cipv-chats-toxicity\\chats\\gemini-2.5-flash-lite-preview-06-17-dataset_2025…"
      ]
     },
     "metadata": {},
     "output_type": "display_data"
    },
    {
     "data": {
      "application/vnd.jupyter.widget-view+json": {
       "model_id": "b1469cc8bc654dc78f597457c964ae29",
       "version_major": 2,
       "version_minor": 0
      },
      "text/plain": [
       "📂 Loading Directory: .\\out\\datasets\\cipv-chats-toxicity\\chats\\gemini-2.5-flash_2025-08-01-16-58-50:   0%|     …"
      ]
     },
     "metadata": {},
     "output_type": "display_data"
    },
    {
     "data": {
      "application/vnd.jupyter.widget-view+json": {
       "model_id": "d2f76892432546378cdd26dcefbf0dac",
       "version_major": 2,
       "version_minor": 0
      },
      "text/plain": [
       "📂 Loading Directory: .\\out\\datasets\\cipv-chats-toxicity\\chats\\gemini-2.5-flash_2025-08-02-14-18-13:   0%|     …"
      ]
     },
     "metadata": {},
     "output_type": "display_data"
    },
    {
     "data": {
      "application/vnd.jupyter.widget-view+json": {
       "model_id": "1f23bd57a1484bfca1e284807d040f36",
       "version_major": 2,
       "version_minor": 0
      },
      "text/plain": [
       "📂 Loading Directory: .\\out\\datasets\\cipv-chats-toxicity\\chats\\gemini-2.5-flash_2025-08-03-13-30-47:   0%|     …"
      ]
     },
     "metadata": {},
     "output_type": "display_data"
    },
    {
     "data": {
      "application/vnd.jupyter.widget-view+json": {
       "model_id": "1004286cc74c40709e6fe24de1523b50",
       "version_major": 2,
       "version_minor": 0
      },
      "text/plain": [
       "📂 Loading Directory: .\\out\\datasets\\cipv-chats-toxicity\\chats\\gemini-2.5-pro_2025-08-01-17-25-51:   0%|       …"
      ]
     },
     "metadata": {},
     "output_type": "display_data"
    },
    {
     "data": {
      "application/vnd.jupyter.widget-view+json": {
       "model_id": "15b338f9c20643f3889a3d8f24a10cb7",
       "version_major": 2,
       "version_minor": 0
      },
      "text/plain": [
       "📂 Loading Directory: .\\out\\datasets\\cipv-chats-toxicity\\chats\\gemini-2.5-pro_2025-08-02-12-42-24:   0%|       …"
      ]
     },
     "metadata": {},
     "output_type": "display_data"
    },
    {
     "name": "stdout",
     "output_type": "stream",
     "text": [
      "Skipped: 0\n"
     ]
    }
   ],
   "source": [
    "def group_polarities_by_user(messages) -> dict:\n",
    "    person_polarities = defaultdict(list)\n",
    "    for msg in messages:\n",
    "        name = msg.group(\"name\").strip()\n",
    "        polarity = float(msg.group(\"polarity\").strip())\n",
    "        person_polarities[name].append(polarity)\n",
    "    return dict(person_polarities)\n",
    "\n",
    "def simple_add(dataset, messages, couple_dir):\n",
    "    all_names = [msg.group(\"name\") for msg in messages]\n",
    "    if WITH_TOKEN_TYPE_IDS:\n",
    "        unique_names = list(set(all_names))\n",
    "        all_messages = [ f\"[{unique_names.index(all_names[i])}]\" + msg.group(\"name_content\") for i, msg in enumerate(messages)]\n",
    "        if WITH_SEP_TOKENS:\n",
    "            input_chat = '[CLS]' + (\"[SEP]\" + \"\\n\").join(all_messages)\n",
    "        else:\n",
    "            input_chat = \"[CLS]\" + (\"\\n\").join(all_messages)\n",
    "    else:\n",
    "        all_messages = [msg.group(\"name_content\") for msg in messages]\n",
    "        input_chat = \"[CLS]\" + (\"\\n\").join(all_messages)\n",
    "        if WITH_SEP_TOKENS:\n",
    "            input_chat += \"[SEP]\"\n",
    "\n",
    "\n",
    "    person_polarities = group_polarities_by_user(messages)\n",
    "    person_avg_polarities = [\n",
    "        sum(polarities) / len(polarities)\n",
    "        for polarities in person_polarities.values()\n",
    "        if polarities\n",
    "    ]\n",
    "    min_avg_polarity = min(person_avg_polarities)\n",
    "\n",
    "    dataset['labels'].append(min_avg_polarity)\n",
    "    dataset['chats'].append(input_chat)\n",
    "    dataset['user_ids'].append(couple_dir)\n",
    "    dataset['msgs_lengths'].append(len(messages))\n",
    "\n",
    "def load_dataset(path):\n",
    "    # msgs_regex = re.compile(r\"(?P<message>(?P<timestamp>\\d\\d\\d\\d-\\d\\d-\\d\\d \\d\\d:\\d\\d:\\d\\d) \\|? ?(?P<name_content>(?P<name>.+):\\n(?P<content>.+))\\n+Polarity: (?P<polarity>[-+]?\\d\\.?\\d?\\d?)\\n\\[(?P<tag_explanation>(?P<tag>Tag: .+)\\n?Spiegazione: (?P<explanation>.+))\\])\")\n",
    "    msgs_regex = re.compile(r\"(?P<message>\\(?(?P<timestamp>\\d\\d\\d\\d-\\d\\d-\\d\\d \\d\\d:\\d\\d:\\d\\d)\\)? ?\\|? ?(?P<name_content>(?P<name>.+):\\n?\\s?(?P<content>.+))\\n?\\s?Polarity: (?P<polarity>(?:-?|\\+?)\\d\\.?\\d?\\d?))\")\n",
    "    dataset = {\n",
    "        \"chats\": [],\n",
    "        \"labels\": [],\n",
    "        \"user_ids\": [],\n",
    "        \"msgs_lengths\": [],\n",
    "    }\n",
    "    skipped = 0\n",
    "    model_dirs = os.listdir(path)\n",
    "    for model_dir in tqdm(model_dirs, desc=\"📂 Loading Dataset\"):\n",
    "        model_dir_path = os.path.join(path, model_dir)\n",
    "        couple_dirs = os.listdir(model_dir_path)\n",
    "        for couple_dir in tqdm(couple_dirs, desc=f\"📂 Loading Directory: {model_dir_path}\"):\n",
    "            couple_dir_path = os.path.join(model_dir_path, couple_dir)\n",
    "            files = os.listdir(couple_dir_path)\n",
    "            for file in files:\n",
    "                with open(os.path.join(couple_dir_path, file), \"r\", encoding=\"utf-8\") as f:\n",
    "                    chat = f.read()\n",
    "                    messages = list(msgs_regex.finditer(chat))\n",
    "                    if len(messages) > 0: # checks if there are matched messages\n",
    "                        simple_add(dataset, messages, couple_dir)\n",
    "                    else:\n",
    "                        skipped += 1\n",
    "                        print(f\"No messages found in file: {os.path.join(couple_dir_path, file)}\")\n",
    "                        \n",
    "    return dataset, skipped\n",
    "\n",
    "dataset, skipped = load_dataset(PATH)\n",
    "\n",
    "df = pd.DataFrame(dataset)\n",
    "df[\"labels\"] = pd.cut(df[\"labels\"], bins=POLARITY_BINS, labels=POLARITY_LABELS)\n",
    "\n",
    "dataset = Dataset.from_pandas(df)\n",
    "print(f\"Skipped: {skipped}\")"
   ]
  },
  {
   "cell_type": "code",
   "execution_count": 35,
   "id": "2da14f06",
   "metadata": {},
   "outputs": [
    {
     "name": "stdout",
     "output_type": "stream",
     "text": [
      "Dataset({\n",
      "    features: ['chats', 'labels', 'user_ids', 'msgs_lengths'],\n",
      "    num_rows: 3157\n",
      "})\n",
      "chats: [CLS][1]Sofia:\n",
      "Ciao Marco, come stai?[SEP]\n",
      "[0]Marco:\n",
      "Ciao Sofia. Tutto bene, grazie. Un po' impegnato con il lavoro.[SEP]\n",
      "[1]Sofia:\n",
      "Capisco. Senti, volevo dirti che questa settimana ho bisogno di un po' di spazio. Sono molto stressata e ho bisogno di concentrarmi su me stessa.[SEP]\n",
      "[0]Marco:\n",
      "Ah, ok. Quindi cosa significa? Non vuoi che ti scriva o ti chiami?[SEP]\n",
      "[1]Sofia:\n",
      "Significa che ho bisogno di tempo per me stessa, per rilassarmi e ricaricare le energie. Possiamo sentirci, ma magari non tutti i giorni e non per parlare di cose impegnative. Ho bisogno di leggerezza.[SEP]\n",
      "[0]Marco:\n",
      "Va bene. Cercherò di rispettare il tuo bisogno. Ma sappi che mi mancherai.[SEP]\n",
      "[1]Sofia:\n",
      "Grazie Marco, lo apprezzo molto. Anche tu mi mancherai, ma so che questo è necessario per il nostro benessere.[SEP]\n",
      "[0]Marco:\n",
      "Ok. Allora ci sentiamo tra qualche giorno. Buona giornata.[SEP]\n",
      "[1]Sofia:\n",
      "Grazie, anche a te. A presto.\n",
      "\n",
      "labels: 1\n",
      "\n",
      "user_ids: 2025-07-09-15-56-39\n",
      "\n",
      "msgs_lengths: 9\n",
      "\n"
     ]
    }
   ],
   "source": [
    "def print_dataset_info(dataset):\n",
    "    print(dataset)\n",
    "    # For each field, print the first entry\n",
    "    for field in dataset.features:\n",
    "        print(f\"{field}: {dataset[0][field]}\\n\")\n",
    "\n",
    "print_dataset_info(dataset)"
   ]
  },
  {
   "cell_type": "markdown",
   "id": "63bb8493",
   "metadata": {},
   "source": [
    "# 🪄 Dataset Preprocessing"
   ]
  },
  {
   "cell_type": "code",
   "execution_count": 10,
   "id": "3255da35",
   "metadata": {},
   "outputs": [
    {
     "name": "stdout",
     "output_type": "stream",
     "text": [
      "Special tokens added: 31102 for [0], 17197 for [1]\n"
     ]
    },
    {
     "data": {
      "application/vnd.jupyter.widget-view+json": {
       "model_id": "a665f0f999304bafa6cbad329273d02f",
       "version_major": 2,
       "version_minor": 0
      },
      "text/plain": [
       "Map:   0%|          | 0/3157 [00:00<?, ? examples/s]"
      ]
     },
     "metadata": {},
     "output_type": "display_data"
    },
    {
     "name": "stderr",
     "output_type": "stream",
     "text": [
      "Token indices sequence length is longer than the specified maximum sequence length for this model (684 > 512). Running this sequence through the model will result in indexing errors\n"
     ]
    },
    {
     "name": "stdout",
     "output_type": "stream",
     "text": [
      "Dataset({\n",
      "    features: ['labels', 'user_ids', 'msgs_lengths', 'input_ids', 'token_type_ids', 'attention_mask'],\n",
      "    num_rows: 3157\n",
      "})\n",
      "labels: 2\n",
      "\n",
      "user_ids: 2025-07-09-15-56-39\n",
      "\n",
      "msgs_lengths: 9\n",
      "\n",
      "input_ids: [102, 15509, 1587, 2009, 5552, 1307, 342, 1628, 3098, 103, 5552, 1587, 2009, 15509, 697, 2685, 543, 1307, 1569, 697, 722, 228, 1553, 10562, 153, 162, 742, 697, 103, 15509, 1587, 8361, 697, 2869, 1307, 4027, 7399, 158, 572, 2351, 480, 1332, 120, 141, 228, 1553, 120, 2781, 697, 694, 617, 10651, 2014, 126, 480, 1332, 120, 2935, 2304, 171, 290, 1632, 697, 103, 5552, 1587, 3135, 1307, 2275, 697, 1544, 510, 1600, 3098, 313, 1634, 158, 364, 1665, 187, 177, 364, 8576, 3098, 103, 15509, 1587, 11955, 158, 480, 1332, 120, 677, 156, 290, 1632, 1307, 156, 8107, 2308, 126, 18097, 113, 199, 12150, 697, 4681, 1000, 3212, 1307, 220, 6120, 212, 570, 134, 1461, 126, 212, 156, 1778, 120, 1218, 11397, 229, 697, 569, 1332, 120, 28994, 697, 103, 5552, 1587, 1041, 543, 697, 3335, 19160, 120, 8631, 162, 637, 1332, 697, 348, 4257, 357, 158, 318, 23589, 3244, 697, 103, 15509, 1587, 1141, 5552, 1307, 275, 20553, 617, 697, 1736, 241, 318, 23589, 3244, 1307, 220, 245, 158, 395, 198, 1987, 156, 162, 1149, 6720, 697, 103, 5552, 1587, 913, 697, 1557, 302, 17628, 293, 1507, 1045, 697, 5760, 3695, 697, 103, 15509, 1587, 1141, 1307, 409, 111, 294, 697, 180, 2900, 697]\n",
      "\n",
      "token_type_ids: [0, 1, 1, 1, 1, 1, 1, 1, 1, 1, 0, 0, 0, 0, 0, 0, 0, 0, 0, 0, 0, 0, 0, 0, 0, 0, 0, 0, 0, 1, 1, 1, 1, 1, 1, 1, 1, 1, 1, 1, 1, 1, 1, 1, 1, 1, 1, 1, 1, 1, 1, 1, 1, 1, 1, 1, 1, 1, 1, 1, 1, 1, 1, 1, 0, 0, 0, 0, 0, 0, 0, 0, 0, 0, 0, 0, 0, 0, 0, 0, 0, 0, 0, 0, 0, 1, 1, 1, 1, 1, 1, 1, 1, 1, 1, 1, 1, 1, 1, 1, 1, 1, 1, 1, 1, 1, 1, 1, 1, 1, 1, 1, 1, 1, 1, 1, 1, 1, 1, 1, 1, 1, 1, 1, 1, 1, 1, 1, 1, 1, 1, 0, 0, 0, 0, 0, 0, 0, 0, 0, 0, 0, 0, 0, 0, 0, 0, 0, 0, 0, 0, 0, 0, 1, 1, 1, 1, 1, 1, 1, 1, 1, 1, 1, 1, 1, 1, 1, 1, 1, 1, 1, 1, 1, 1, 1, 1, 1, 1, 1, 0, 0, 0, 0, 0, 0, 0, 0, 0, 0, 0, 0, 0, 0, 0, 1, 1, 1, 1, 1, 1, 1, 1, 1, 1, 1]\n",
      "\n",
      "attention_mask: [1, 1, 1, 1, 1, 1, 1, 1, 1, 1, 1, 1, 1, 1, 1, 1, 1, 1, 1, 1, 1, 1, 1, 1, 1, 1, 1, 1, 1, 1, 1, 1, 1, 1, 1, 1, 1, 1, 1, 1, 1, 1, 1, 1, 1, 1, 1, 1, 1, 1, 1, 1, 1, 1, 1, 1, 1, 1, 1, 1, 1, 1, 1, 1, 1, 1, 1, 1, 1, 1, 1, 1, 1, 1, 1, 1, 1, 1, 1, 1, 1, 1, 1, 1, 1, 1, 1, 1, 1, 1, 1, 1, 1, 1, 1, 1, 1, 1, 1, 1, 1, 1, 1, 1, 1, 1, 1, 1, 1, 1, 1, 1, 1, 1, 1, 1, 1, 1, 1, 1, 1, 1, 1, 1, 1, 1, 1, 1, 1, 1, 1, 1, 1, 1, 1, 1, 1, 1, 1, 1, 1, 1, 1, 1, 1, 1, 1, 1, 1, 1, 1, 1, 1, 1, 1, 1, 1, 1, 1, 1, 1, 1, 1, 1, 1, 1, 1, 1, 1, 1, 1, 1, 1, 1, 1, 1, 1, 1, 1, 1, 1, 1, 1, 1, 1, 1, 1, 1, 1, 1, 1, 1, 1, 1, 1, 1, 1, 1, 1, 1, 1, 1, 1, 1, 1, 1]\n",
      "\n"
     ]
    },
    {
     "data": {
      "text/plain": [
       "0"
      ]
     },
     "execution_count": 10,
     "metadata": {},
     "output_type": "execute_result"
    }
   ],
   "source": [
    "tokenizer = AutoTokenizer.from_pretrained(SELECTED_BERT_MODEL)\n",
    "if WITH_TOKEN_TYPE_IDS:\n",
    "    tokenizer.add_special_tokens({\n",
    "        \"additional_special_tokens\": [\"[0]\", \"[1]\"]\n",
    "    })\n",
    "    id_0 = tokenizer.convert_tokens_to_ids(\"[0]\")\n",
    "    id_1 = tokenizer.convert_tokens_to_ids(\"[1]\")\n",
    "    print(f\"Special tokens added: {id_0} for [0], {id_1} for [1]\")\n",
    "\n",
    "def preprocess(examples):\n",
    "    tokenized_chats = tokenizer(\n",
    "        examples['chats'],\n",
    "        # padding='max_length',\n",
    "        # truncation=True,\n",
    "        # max_length=512,\n",
    "        # return_tensors='pt',\n",
    "        add_special_tokens=False # Skip special tokens in the target text\n",
    "    )\n",
    "    tokenized_chats[\"labels\"] = examples[\"labels\"]\n",
    "    tokenized_chats[\"user_ids\"] = examples[\"user_ids\"]\n",
    "    tokenized_chats[\"msgs_lengths\"] = examples[\"msgs_lengths\"]\n",
    "\n",
    "    if WITH_TOKEN_TYPE_IDS:\n",
    "        tkn_type = 0  # Default token type\n",
    "        for i, sample in enumerate(tokenized_chats['input_ids']):\n",
    "            for j, tkn in enumerate(sample):\n",
    "                if tkn == id_0:\n",
    "                    tkn_type = 0\n",
    "                    # remove the special token at current position\n",
    "                    tokenized_chats['input_ids'][i].pop(j)\n",
    "                    tokenized_chats['attention_mask'][i].pop(j)\n",
    "                    tokenized_chats['token_type_ids'][i].pop(j)\n",
    "                elif tkn == id_1:\n",
    "                    tkn_type = 1\n",
    "                    # remove the special token at current position\n",
    "                    tokenized_chats['input_ids'][i].pop(j)\n",
    "                    tokenized_chats['attention_mask'][i].pop(j)\n",
    "                    tokenized_chats['token_type_ids'][i].pop(j)\n",
    "                tokenized_chats['token_type_ids'][i][j] = tkn_type\n",
    "\n",
    "    return tokenized_chats\n",
    "\n",
    "tokenized_dataset = dataset.map(\n",
    "    preprocess,\n",
    "    batched=True,\n",
    "    # batch_size=1000,\n",
    "    remove_columns=dataset.column_names\n",
    ")\n",
    "print_dataset_info(tokenized_dataset)\n",
    "# print(tokenized_dataset)\n",
    "\n",
    "# remove the special tokens from the tokenizer\n",
    "tokenizer.add_special_tokens({\n",
    "    \"additional_special_tokens\": []\n",
    "})"
   ]
  },
  {
   "cell_type": "code",
   "execution_count": 11,
   "id": "42f54194",
   "metadata": {},
   "outputs": [
    {
     "name": "stdout",
     "output_type": "stream",
     "text": [
      "input_ids token length statistics:\n",
      "Number of samples with more than 1024 tokens: 0\n",
      "Number of samples with more than 512 tokens: 225\n"
     ]
    },
    {
     "data": {
      "image/png": "[encoded data removed]",
      "text/plain": [
       "<Figure size 640x480 with 1 Axes>"
      ]
     },
     "metadata": {},
     "output_type": "display_data"
    },
    {
     "data": {
      "image/png": "[encoded data removed]",
      "text/plain": [
       "<Figure size 640x480 with 1 Axes>"
      ]
     },
     "metadata": {},
     "output_type": "display_data"
    }
   ],
   "source": [
    "df = pd.DataFrame(tokenized_dataset)\n",
    "\n",
    "more_than_1024_input_mask = df['input_ids'].apply(lambda x: len(x) > 1024)\n",
    "more_than_512_input_mask = df['input_ids'].apply(lambda x: len(x) > 512)\n",
    "\n",
    "# print(f\"Tokenized dataset:\\n{df.head()}\")\n",
    "print(\"input_ids token length statistics:\")\n",
    "print(f\"Number of samples with more than 1024 tokens: {len(df[more_than_1024_input_mask])}\")\n",
    "print(f\"Number of samples with more than 512 tokens: {len(df[more_than_512_input_mask])}\")\n",
    "\n",
    "# plots histograms for input_ids and labels with different colors in a single plot\n",
    "# with semi-transparent bars in order to visualize overlaps\n",
    "# with 1024 + 1 bins where the last bin is for samples with more than 1024 tokens\n",
    "\n",
    "input_ds_token_lengths = df['input_ids'].apply(lambda x: len(x))\n",
    "\n",
    "input_ds_token_lengths.hist(\n",
    "    bins=input_ds_token_lengths.max(), \n",
    "    edgecolor='blue', alpha=0.5, \n",
    "    label='Input Chats'\n",
    ")\n",
    "plt.xlabel('Number of Tokens')\n",
    "plt.ylabel('Frequency')\n",
    "plt.title('Token Length Distribution')\n",
    "plt.legend()\n",
    "# plt.savefig(os.path.join(OUT_DIR, \"token_and_message_length_distribution.png\"))\n",
    "plt.show()\n",
    "\n",
    "# min_msgs = df['msgs_lengths'].min()\n",
    "max_msgs = df['msgs_lengths'].max()\n",
    "df['msgs_lengths'].hist(\n",
    "    bins=range(max_msgs + 1),  # +2 so last bin includes max\n",
    "    edgecolor='black',\n",
    "    label='Messages Lengths',\n",
    "    align='left'\n",
    ")\n",
    "plt.xlabel('Number of Messages')\n",
    "plt.ylabel('Frequency')\n",
    "plt.title('Messages Length Distribution')\n",
    "plt.legend()\n",
    "# plt.savefig(os.path.join(OUT_DIR, \"messages_length_distribution.png\"))\n",
    "plt.yscale('log')\n",
    "plt.xticks(range(max_msgs + 1))\n",
    "plt.show()\n",
    "\n",
    "# Remove all samples with more than 1024 tokens in input_ids and labels\n",
    "df = df[~more_than_512_input_mask]"
   ]
  },
  {
   "cell_type": "markdown",
   "id": "a141142f",
   "metadata": {},
   "source": [
    "# 📂 Dataset Splitting"
   ]
  },
  {
   "cell_type": "code",
   "execution_count": 12,
   "id": "bde5f669",
   "metadata": {},
   "outputs": [
    {
     "name": "stdout",
     "output_type": "stream",
     "text": [
      "Users in dataset: 111\n",
      "Dataset size: 2932\n",
      "\n",
      "Train/Eval Set Size: 2330 (79.47%)\n",
      "Couples in Train/Eval Set: 88\n",
      "\n",
      "Test Set Size: 602 (20.53%)\n",
      "Couples in Test Set: 23\n",
      "\n",
      "Train Set Size: 1870 (63.78%)\n",
      "Couples in Train Set: 70\n",
      "\n",
      "Validation Set Size: 460 (15.69%)\n",
      "Couples in Validation Set: 18\n",
      "Dataset({\n",
      "    features: ['labels', 'input_ids', 'token_type_ids', 'attention_mask'],\n",
      "    num_rows: 1870\n",
      "})\n",
      "labels: 2\n",
      "\n",
      "input_ids: tensor([  102, 15509,  1587,  2009,  5552,  1307,   342,  1628,  3098,   103,\n",
      "         5552,  1587,  2009, 15509,   697,  2685,   543,  1307,  1569,   697,\n",
      "          722,   228,  1553, 10562,   153,   162,   742,   697,   103, 15509,\n",
      "         1587,  8361,   697,  2869,  1307,  4027,  7399,   158,   572,  2351,\n",
      "          480,  1332,   120,   141,   228,  1553,   120,  2781,   697,   694,\n",
      "          617, 10651,  2014,   126,   480,  1332,   120,  2935,  2304,   171,\n",
      "          290,  1632,   697,   103,  5552,  1587,  3135,  1307,  2275,   697,\n",
      "         1544,   510,  1600,  3098,   313,  1634,   158,   364,  1665,   187,\n",
      "          177,   364,  8576,  3098,   103, 15509,  1587, 11955,   158,   480,\n",
      "         1332,   120,   677,   156,   290,  1632,  1307,   156,  8107,  2308,\n",
      "          126, 18097,   113,   199, 12150,   697,  4681,  1000,  3212,  1307,\n",
      "          220,  6120,   212,   570,   134,  1461,   126,   212,   156,  1778,\n",
      "          120,  1218, 11397,   229,   697,   569,  1332,   120, 28994,   697,\n",
      "          103,  5552,  1587,  1041,   543,   697,  3335, 19160,   120,  8631,\n",
      "          162,   637,  1332,   697,   348,  4257,   357,   158,   318, 23589,\n",
      "         3244,   697,   103, 15509,  1587,  1141,  5552,  1307,   275, 20553,\n",
      "          617,   697,  1736,   241,   318, 23589,  3244,  1307,   220,   245,\n",
      "          158,   395,   198,  1987,   156,   162,  1149,  6720,   697,   103,\n",
      "         5552,  1587,   913,   697,  1557,   302, 17628,   293,  1507,  1045,\n",
      "          697,  5760,  3695,   697,   103, 15509,  1587,  1141,  1307,   409,\n",
      "          111,   294,   697,   180,  2900,   697])\n",
      "\n",
      "token_type_ids: tensor([0, 1, 1, 1, 1, 1, 1, 1, 1, 1, 0, 0, 0, 0, 0, 0, 0, 0, 0, 0, 0, 0, 0, 0,\n",
      "        0, 0, 0, 0, 0, 1, 1, 1, 1, 1, 1, 1, 1, 1, 1, 1, 1, 1, 1, 1, 1, 1, 1, 1,\n",
      "        1, 1, 1, 1, 1, 1, 1, 1, 1, 1, 1, 1, 1, 1, 1, 1, 0, 0, 0, 0, 0, 0, 0, 0,\n",
      "        0, 0, 0, 0, 0, 0, 0, 0, 0, 0, 0, 0, 0, 1, 1, 1, 1, 1, 1, 1, 1, 1, 1, 1,\n",
      "        1, 1, 1, 1, 1, 1, 1, 1, 1, 1, 1, 1, 1, 1, 1, 1, 1, 1, 1, 1, 1, 1, 1, 1,\n",
      "        1, 1, 1, 1, 1, 1, 1, 1, 1, 1, 1, 0, 0, 0, 0, 0, 0, 0, 0, 0, 0, 0, 0, 0,\n",
      "        0, 0, 0, 0, 0, 0, 0, 0, 0, 1, 1, 1, 1, 1, 1, 1, 1, 1, 1, 1, 1, 1, 1, 1,\n",
      "        1, 1, 1, 1, 1, 1, 1, 1, 1, 1, 1, 1, 0, 0, 0, 0, 0, 0, 0, 0, 0, 0, 0, 0,\n",
      "        0, 0, 0, 1, 1, 1, 1, 1, 1, 1, 1, 1, 1, 1])\n",
      "\n",
      "attention_mask: tensor([1, 1, 1, 1, 1, 1, 1, 1, 1, 1, 1, 1, 1, 1, 1, 1, 1, 1, 1, 1, 1, 1, 1, 1,\n",
      "        1, 1, 1, 1, 1, 1, 1, 1, 1, 1, 1, 1, 1, 1, 1, 1, 1, 1, 1, 1, 1, 1, 1, 1,\n",
      "        1, 1, 1, 1, 1, 1, 1, 1, 1, 1, 1, 1, 1, 1, 1, 1, 1, 1, 1, 1, 1, 1, 1, 1,\n",
      "        1, 1, 1, 1, 1, 1, 1, 1, 1, 1, 1, 1, 1, 1, 1, 1, 1, 1, 1, 1, 1, 1, 1, 1,\n",
      "        1, 1, 1, 1, 1, 1, 1, 1, 1, 1, 1, 1, 1, 1, 1, 1, 1, 1, 1, 1, 1, 1, 1, 1,\n",
      "        1, 1, 1, 1, 1, 1, 1, 1, 1, 1, 1, 1, 1, 1, 1, 1, 1, 1, 1, 1, 1, 1, 1, 1,\n",
      "        1, 1, 1, 1, 1, 1, 1, 1, 1, 1, 1, 1, 1, 1, 1, 1, 1, 1, 1, 1, 1, 1, 1, 1,\n",
      "        1, 1, 1, 1, 1, 1, 1, 1, 1, 1, 1, 1, 1, 1, 1, 1, 1, 1, 1, 1, 1, 1, 1, 1,\n",
      "        1, 1, 1, 1, 1, 1, 1, 1, 1, 1, 1, 1, 1, 1])\n",
      "\n"
     ]
    }
   ],
   "source": [
    "from sklearn.model_selection import GroupShuffleSplit\n",
    "\n",
    "print(f\"Users in dataset: {df['user_ids'].nunique()}\")\n",
    "print(f\"Dataset size: {len(df)}\\n\")\n",
    "\n",
    "#['user_ids', 'msgs_lengths', 'input_ids', 'token_type_ids', 'attention_mask', 'labels']\n",
    "df.drop(columns=['msgs_lengths'], inplace=True)\n",
    "\n",
    "gss_test = GroupShuffleSplit(n_splits=1, test_size=0.2, random_state=42)\n",
    "train_val_idx, test_idx = next(gss_test.split(\n",
    "    X=df[['input_ids', 'token_type_ids', 'attention_mask']], \n",
    "    y=df['labels'], \n",
    "    groups=df['user_ids']\n",
    "))\n",
    "\n",
    "test_df = df.iloc[test_idx].copy()\n",
    "train_val_df = df.iloc[train_val_idx].copy()\n",
    "\n",
    "gss_val = GroupShuffleSplit(n_splits=1, test_size=0.2, random_state=42)\n",
    "train_idx, eval_idx = next(gss_val.split(\n",
    "    X=train_val_df[['input_ids', 'token_type_ids', 'attention_mask']], \n",
    "    y=train_val_df['labels'], \n",
    "    groups=train_val_df['user_ids']\n",
    "))\n",
    "\n",
    "eval_df = train_val_df.iloc[eval_idx].copy()\n",
    "train_df = train_val_df.iloc[train_idx].copy()\n",
    "\n",
    "print(f\"Train/Eval Set Size: {len(train_val_df)} ({len(train_val_df) / len(df) * 100:.2f}%)\")\n",
    "print(f\"Couples in Train/Eval Set: {train_val_df['user_ids'].nunique()}\")\n",
    "\n",
    "print(f\"\\nTest Set Size: {len(test_df)} ({len(test_df) / len(df) * 100:.2f}%)\")\n",
    "print(f\"Couples in Test Set: {test_df['user_ids'].nunique()}\")\n",
    "\n",
    "print(f\"\\nTrain Set Size: {len(train_df)} ({len(train_df) / len(df) * 100:.2f}%)\")\n",
    "print(f\"Couples in Train Set: {train_df['user_ids'].nunique()}\")\n",
    "\n",
    "print(f\"\\nValidation Set Size: {len(eval_df)} ({len(eval_df) / len(df) * 100:.2f}%)\")\n",
    "print(f\"Couples in Validation Set: {eval_df['user_ids'].nunique()}\")\n",
    "\n",
    "train_val_df = train_val_df.drop(columns=['user_ids'])\n",
    "train_df = train_df.drop(columns=['user_ids'])\n",
    "eval_df = eval_df.drop(columns=['user_ids'])\n",
    "test_df = test_df.drop(columns=['user_ids'])\n",
    "\n",
    "train_df = train_df.reset_index(drop=True)\n",
    "eval_df = eval_df.reset_index(drop=True)\n",
    "test_df = test_df.reset_index(drop=True)\n",
    "\n",
    "tokenized_train_set = Dataset.from_pandas(train_df)\n",
    "tokenized_eval_set = Dataset.from_pandas(eval_df)\n",
    "tokenized_test_set = Dataset.from_pandas(test_df)\n",
    "\n",
    "# Set the format to PyTorch tensors\n",
    "tokenized_train_set.set_format(\"torch\")\n",
    "tokenized_test_set.set_format(\"torch\")\n",
    "tokenized_eval_set.set_format(\"torch\")\n",
    "\n",
    "print_dataset_info(tokenized_train_set)"
   ]
  },
  {
   "cell_type": "markdown",
   "id": "3eacaade",
   "metadata": {},
   "source": [
    "# ⚙️ Training Settings"
   ]
  },
  {
   "cell_type": "code",
   "execution_count": 13,
   "id": "a0c6e0f3",
   "metadata": {},
   "outputs": [
    {
     "name": "stderr",
     "output_type": "stream",
     "text": [
      "Some weights of BertForSequenceClassification were not initialized from the model checkpoint at dbmdz/bert-base-italian-cased and are newly initialized: ['classifier.bias', 'classifier.weight']\n",
      "You should probably TRAIN this model on a down-stream task to be able to use it for predictions and inference.\n"
     ]
    },
    {
     "name": "stdout",
     "output_type": "stream",
     "text": [
      "✅ Loaded Model: BertForSequenceClassification\n",
      "Total Parameters: 109,929,987\n"
     ]
    }
   ],
   "source": [
    "model = AutoModelForSequenceClassification.from_pretrained(\n",
    "    SELECTED_BERT_MODEL,\n",
    "    num_labels=NUM_LABELS,\n",
    "    problem_type=\"single_label_classification\"\n",
    ")\n",
    "model.to(device)\n",
    "print(f\"✅ Loaded Model: {model.__class__.__name__}\")\n",
    "print(f\"Total Parameters: {sum(p.numel() for p in model.parameters()):,}\")"
   ]
  },
  {
   "cell_type": "code",
   "execution_count": null,
   "id": "d0cdf6fa",
   "metadata": {},
   "outputs": [],
   "source": [
    "def compute_metrics(eval_pred):\n",
    "    predictions, labels = eval_pred\n",
    "    predictions = np.argmax(predictions, axis=1)\n",
    "\n",
    "    f1_weighted = f1_score(labels, predictions, average='weighted', zero_division=0)\n",
    "    precision = precision_score(labels, predictions, average='weighted', zero_division=0)\n",
    "    recall = recall_score(labels, predictions, average='weighted', zero_division=0)\n",
    "    accuracy = accuracy_score(labels, predictions)\n",
    "\n",
    "    return {\n",
    "        'accuracy': accuracy,\n",
    "        'precision': precision,\n",
    "        'recall': recall,\n",
    "        'f1_weighted': f1_weighted,\n",
    "    }"
   ]
  },
  {
   "cell_type": "code",
   "execution_count": 15,
   "id": "97836e2e",
   "metadata": {},
   "outputs": [],
   "source": [
    "training_args = TrainingArguments(\n",
    "    output_dir=OUT_DIR,\n",
    "    num_train_epochs=NUM_EPOCHS,\n",
    "    per_device_train_batch_size=BATCH_SIZE,\n",
    "    per_device_eval_batch_size=BATCH_SIZE,\n",
    "\n",
    "    gradient_accumulation_steps=GRADIENT_ACCUMULATION_STEPS,\n",
    "    learning_rate=LEARNING_RATE,\n",
    "    # warmup_steps=20,\n",
    "    weight_decay=WEIGHT_DECAY,\n",
    "    warmup_ratio=WARMUP_PERCENTAGE,\n",
    "    # logging_dir=f'{OUT_DIR}/logs',\n",
    "    \n",
    "    lr_scheduler_type=\"linear\",\n",
    "    # lr_scheduler_type=\"reduce_lr_on_plateau\",\n",
    "    # lr_scheduler_kwargs= {\n",
    "    #     \"factor\": 0.5,        # Riduce il learning rate del 50% quando non migliora\n",
    "    #     \"patience\": 4,        # Aspetta 4 valutazioni senza miglioramento\n",
    "    #     \"threshold\": 5e-5,    # Soglia sensibile\n",
    "    #     \"mode\": \"max\"\n",
    "    # },\n",
    "\n",
    "    # 🎯 STRATEGIE OTTIMIZZATE\n",
    "    eval_strategy=\"epoch\",           # ← Valuta ogni N steps (più controllo)\n",
    "    # eval_steps=20,                   # ← Valuta ogni 45 steps (frequente ma non eccessivo circa 0.5 epoche) \n",
    "    save_strategy=\"epoch\",           # ← Salva in base agli steps (stesso timing di eval)\n",
    "    # save_steps=20,                   # ← Salva ogni 45 steps (stesso di eval_steps circa 0.5 epoche) \n",
    "    \n",
    "    # 📊 LOGGING\n",
    "    # logging_steps=20,                # ← Log ogni 25 steps (più frequente di save)\n",
    "    report_to=\"none\",\n",
    "    logging_strategy=\"epoch\",\n",
    "    \n",
    "    load_best_model_at_end=True,\n",
    "\n",
    "    metric_for_best_model=\"f1_weighted\",\n",
    "    greater_is_better=True,\n",
    "    save_total_limit=SAVE_TOTAL_LIMIT,\n",
    "\n",
    "    dataloader_num_workers=NUM_WORKERS,\n",
    "    fp16=torch.cuda.is_available(),       # Mixed precision se GPU disponibile\n",
    "    group_by_length=True,                 # Raggruppa per lunghezza sequenza: incrementa efficienza training, \n",
    "    remove_unused_columns=True            # Rimuove colonne non utilizzate dal dataset come min_avg_polarity\n",
    ")\n",
    "\n",
    "early_stopping_callback = EarlyStoppingCallback(\n",
    "    early_stopping_patience=14,     # ← Numero di valutazioni senza miglioramento prima di fermare il training\n",
    "    early_stopping_threshold=0.0005 # Soglia minima di miglioramento per considerare un miglioramento\n",
    ")\n",
    "\n",
    "data_collator = DataCollatorWithPadding(tokenizer=tokenizer)\n",
    "\n",
    "trainer = Trainer(\n",
    "    model=model,\n",
    "    args=training_args,\n",
    "    train_dataset=tokenized_train_set,\n",
    "    eval_dataset=tokenized_eval_set,\n",
    "    # tokenizer=tokenizer,\n",
    "    data_collator=data_collator,\n",
    "    compute_metrics=compute_metrics,\n",
    "    # callbacks=[early_stopping_callback]\n",
    ")"
   ]
  },
  {
   "cell_type": "markdown",
   "id": "d4d34e1f",
   "metadata": {},
   "source": [
    "# 🤖 Baseline BERT"
   ]
  },
  {
   "cell_type": "code",
   "execution_count": null,
   "id": "b0ad9fec",
   "metadata": {},
   "outputs": [
    {
     "data": {
      "text/html": [],
      "text/plain": [
       "<IPython.core.display.HTML object>"
      ]
     },
     "metadata": {},
     "output_type": "display_data"
    },
    {
     "name": "stdout",
     "output_type": "stream",
     "text": [
      "              precision    recall  f1-score   support\n",
      "\n",
      "       Toxic       0.00      0.00      0.00       255\n",
      "     Neutral       0.38      0.14      0.21       185\n",
      "     Healthy       0.27      0.88      0.41       162\n",
      "\n",
      "    accuracy                           0.28       602\n",
      "   macro avg       0.22      0.34      0.20       602\n",
      "weighted avg       0.19      0.28      0.17       602\n",
      "\n"
     ]
    }
   ],
   "source": [
    "os.makedirs(RESULTS_PATH, exist_ok=True)\n",
    "with open(os.path.join(RESULTS_PATH, \"baseline.txt\"), \"w\") as f:\n",
    "    predictions_output = trainer.predict(tokenized_test_set)\n",
    "    preds = np.argmax(predictions_output.predictions, axis=1)\n",
    "    labels = predictions_output.label_ids\n",
    "    report = classification_report(\n",
    "        labels, preds, zero_division=0,\n",
    "        target_names=TARGET_NAMES\n",
    "    )\n",
    "    print(report)\n",
    "    f.write(report)"
   ]
  },
  {
   "cell_type": "markdown",
   "id": "812f3bc5",
   "metadata": {},
   "source": [
    "# 🤖 Fine-Tuned BERT"
   ]
  },
  {
   "cell_type": "code",
   "execution_count": null,
   "id": "15ecaedc",
   "metadata": {},
   "outputs": [],
   "source": [
    "trainer.train()"
   ]
  },
  {
   "cell_type": "code",
   "execution_count": null,
   "id": "c944709a",
   "metadata": {},
   "outputs": [],
   "source": [
    "# Plots Learning Curve\n",
    "plot_losses(trainer.state.log_history, RESULTS_PATH)"
   ]
  },
  {
   "cell_type": "code",
   "execution_count": null,
   "id": "dce68340",
   "metadata": {},
   "outputs": [],
   "source": [
    "os.makedirs(RESULTS_PATH, exist_ok=True)\n",
    "with open(os.path.join(RESULTS_PATH, \"fine-tuned.txt\"), \"w\") as f:\n",
    "    predictions_output = trainer.predict(tokenized_test_set)\n",
    "    preds = np.argmax(predictions_output.predictions, axis=1)\n",
    "    labels = predictions_output.label_ids\n",
    "    report = classification_report(\n",
    "        labels, preds, zero_division=0,\n",
    "        target_names=TARGET_NAMES\n",
    "    )\n",
    "    print(report)\n",
    "    f.write(report)"
   ]
  },
  {
   "cell_type": "code",
   "execution_count": null,
   "id": "9d378cba",
   "metadata": {},
   "outputs": [],
   "source": [
    "if os.path.exists(\"/kaggle\"):\n",
    "    shutil.make_archive(OUT_DIR, 'zip', OUT_DIR)\n",
    "    shutil.rmtree(OUT_DIR)\n",
    "    # os.remove(OUT_DIR + '.zip')"
   ]
  }
 ],
 "metadata": {
  "kernelspec": {
   "display_name": "venv",
   "language": "python",
   "name": "python3"
  },
  "language_info": {
   "codemirror_mode": {
    "name": "ipython",
    "version": 3
   },
   "file_extension": ".py",
   "mimetype": "text/x-python",
   "name": "python",
   "nbconvert_exporter": "python",
   "pygments_lexer": "ipython3",
   "version": "3.10.4"
  }
 },
 "nbformat": 4,
 "nbformat_minor": 5
}
