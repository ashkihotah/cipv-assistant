{
 "cells": [
  {
   "cell_type": "code",
   "execution_count": 1,
   "id": "dfe897e9",
   "metadata": {},
   "outputs": [],
   "source": [
    "# !pip install -r ../input/requirements/requirements.txt\n",
    "# !pip install evaluate\n",
    "# !pip install rouge_score\n",
    "# !pip install bert_score"
   ]
  },
  {
   "cell_type": "markdown",
   "id": "02653c6f",
   "metadata": {},
   "source": [
    "# 📦 Importing Packages"
   ]
  },
  {
   "cell_type": "code",
   "execution_count": 2,
   "id": "7a41f6cf",
   "metadata": {},
   "outputs": [],
   "source": [
    "import torch\n",
    "from datasets import Dataset\n",
    "import matplotlib.pyplot as plt\n",
    "from pandas import DataFrame\n",
    "from sklearn.model_selection import train_test_split\n",
    "\n",
    "import seaborn as sns\n",
    "from datetime import datetime\n",
    "from tqdm.auto import tqdm\n",
    "import shutil\n",
    "import re\n",
    "import os\n",
    "\n",
    "import evaluate as ev\n",
    "from transformers import (\n",
    "    Seq2SeqTrainingArguments,\n",
    "    AutoModelForSeq2SeqLM,\n",
    "    DataCollatorForSeq2Seq,\n",
    "    Seq2SeqTrainer,\n",
    "    AutoTokenizer,\n",
    "    GenerationConfig,\n",
    "    EarlyStoppingCallback,\n",
    ")"
   ]
  },
  {
   "cell_type": "markdown",
   "id": "a4792a16",
   "metadata": {},
   "source": [
    "# ⚙️ Global Settings"
   ]
  },
  {
   "cell_type": "code",
   "execution_count": 3,
   "id": "cd577461",
   "metadata": {},
   "outputs": [],
   "source": [
    "if os.path.exists(\"/kaggle\"):\n",
    "    # Clean up the entire /kaggle/working directory\n",
    "    shutil.rmtree(\"/kaggle/working\", ignore_errors=True)\n",
    "    os.makedirs(\"/kaggle/working\", exist_ok=True)"
   ]
  },
  {
   "cell_type": "markdown",
   "id": "396b55ba",
   "metadata": {},
   "source": [
    "## Hyper-Parameters"
   ]
  },
  {
   "cell_type": "code",
   "execution_count": 4,
   "id": "b60769c5",
   "metadata": {},
   "outputs": [],
   "source": [
    "TASK = \"toxicity\"\n",
    "\n",
    "DEFAULT_CHECKPOINT = \"morenolq/bart-it\"\n",
    "\n",
    "NUM_WORKERS = 0\n",
    "\n",
    "SAVE_TOTAL_LIMIT = 1\n",
    "TEST_SIZE = 0.2\n",
    "BATCH_SIZE = 1\n",
    "NUM_EPOCHS = 2\n",
    "GRADIENT_ACCUMULATION_STEPS = 8\n",
    "EARLY_STOPPING_PATIENCE = 4\n",
    "EARLY_STOPPING_THRESHOLD = 0.0005\n",
    "\n",
    "LR_SCHEDULER_KWARGS = {\n",
    "    \"factor\": 0.5,        # Riduce il learning rate del 50% quando non migliora\n",
    "    \"patience\": 2,\n",
    "    \"threshold\": EARLY_STOPPING_THRESHOLD,\n",
    "    \"mode\": \"max\"\n",
    "}\n",
    "\n",
    "WARMUP_PERCENTAGE = 0.1\n",
    "WEIGHT_DECAY = 0.01 # int the 0 to 0.1 range\n",
    "BODY_LR = 3e-5"
   ]
  },
  {
   "cell_type": "markdown",
   "id": "1150a317",
   "metadata": {},
   "source": [
    "## Paths Settings"
   ]
  },
  {
   "cell_type": "code",
   "execution_count": 5,
   "id": "1a97a8fe",
   "metadata": {},
   "outputs": [],
   "source": [
    "timestamp = datetime.now().strftime(\"%Y-%m-%d_%H-%M-%S\")\n",
    "dir_name = timestamp + \"-\" + DEFAULT_CHECKPOINT\n",
    "\n",
    "if os.path.exists(\"/kaggle\"):\n",
    "    # ==== KAGGLE SETTINGS ====\n",
    "    PATH = os.path.join(os.sep, \"kaggle\", \"input\", f\"cipv-chats-{TASK}\")\n",
    "    OUT_DIR = os.path.join(os.sep, \"kaggle\", \"working\", dir_name)\n",
    "else:\n",
    "    # ==== LOCAL SETTINGS ====\n",
    "    PATH = os.path.join(\".\", \"out\", \"datasets\", f\"cipv-chats-{TASK}\", \"chats\")\n",
    "    OUT_DIR = os.path.join(\".\", \"out\", \"models\", TASK, \"messages-regression-explanation\", \"BART\", dir_name)\n",
    "\n",
    "RESULTS_PATH = os.path.join(OUT_DIR, \"results\")\n",
    "os.makedirs(RESULTS_PATH, exist_ok=True)"
   ]
  },
  {
   "cell_type": "markdown",
   "id": "f23a1767",
   "metadata": {},
   "source": [
    "# 🛠️ Utility Functions"
   ]
  },
  {
   "cell_type": "code",
   "execution_count": 6,
   "id": "dbead057",
   "metadata": {},
   "outputs": [],
   "source": [
    "# Use the same color palette as confusion matrix\n",
    "colors = sns.color_palette(\"ch:s=-.2,r=.6\", n_colors=5)"
   ]
  },
  {
   "cell_type": "code",
   "execution_count": 7,
   "id": "d842decd",
   "metadata": {},
   "outputs": [],
   "source": [
    "def plot_losses(log_history, out_dir=None):\n",
    "    # Extract logs with 'epoch', 'loss', and 'eval_loss'\n",
    "    train_logs = [log for log in log_history if 'epoch' in log and 'loss' in log]\n",
    "    eval_logs = [log for log in log_history if 'epoch' in log and 'eval_loss' in log]\n",
    "\n",
    "    # Convert to DataFrames for easy grouping\n",
    "    train_df = DataFrame(train_logs)\n",
    "    eval_df = DataFrame(eval_logs)\n",
    "\n",
    "    # Group by epoch and compute mean loss per epoch\n",
    "    train_epoch_loss = train_df.groupby('epoch')['loss'].mean()\n",
    "    eval_epoch_loss = eval_df.groupby('epoch')['eval_loss'].mean()\n",
    "\n",
    "    plt.figure(figsize=(7, 5))\n",
    "    plt.plot(\n",
    "        train_epoch_loss.index, \n",
    "        train_epoch_loss.values, \n",
    "        color=colors[2],\n",
    "        label='Train Loss'\n",
    "    )\n",
    "    plt.plot(\n",
    "        eval_epoch_loss.index, \n",
    "        eval_epoch_loss.values, \n",
    "        color=colors[3],\n",
    "        label='Eval Loss'\n",
    "    )\n",
    "    plt.xlabel('Epochs')\n",
    "    plt.ylabel('Loss')\n",
    "    plt.title('Losses Over Epochs')\n",
    "    plt.legend()\n",
    "    plt.grid(True)\n",
    "    plt.tight_layout()\n",
    "    if out_dir is not None:\n",
    "        plt.savefig(os.path.join(out_dir, \"learning_curve.png\"))\n",
    "    plt.show()\n",
    "    plt.close()"
   ]
  },
  {
   "cell_type": "markdown",
   "id": "62adebe2",
   "metadata": {},
   "source": [
    "# 📂 Dataset Loading"
   ]
  },
  {
   "cell_type": "code",
   "execution_count": 8,
   "id": "c237e306",
   "metadata": {},
   "outputs": [
    {
     "data": {
      "application/vnd.jupyter.widget-view+json": {
       "model_id": "bd533cd0f7a345189fa847ca0f2a5306",
       "version_major": 2,
       "version_minor": 0
      },
      "text/plain": [
       "📂 Loading Dataset:   0%|          | 0/11 [00:00<?, ?it/s]"
      ]
     },
     "metadata": {},
     "output_type": "display_data"
    },
    {
     "name": "stdout",
     "output_type": "stream",
     "text": [
      "Skipped: 0\n"
     ]
    }
   ],
   "source": [
    "def simple_add(dataset, messages, couple_dir):\n",
    "    all_messages = [msg.group(\"name_content\") for msg in messages]\n",
    "\n",
    "    input_chat = \"\\n\".join(all_messages)\n",
    "\n",
    "    dataset['chats'].append(input_chat)\n",
    "    # use the directory as user_id\n",
    "    dataset['user_ids'].append(couple_dir)\n",
    "    dataset['msgs_lengths'].append(len(messages))\n",
    "\n",
    "def load_dataset(path):\n",
    "    # msgs_regex = re.compile(r\"(?P<message>(?P<timestamp>\\d\\d\\d\\d-\\d\\d-\\d\\d \\d\\d:\\d\\d:\\d\\d) \\|? ?(?P<name_content>(?P<name>.+):\\n(?P<content>.+))\\n+Polarity: (?P<polarity>[-+]?\\d\\.?\\d?\\d?)\\n\\[(?P<tag_explanation>(?P<tag>Tag: .+)\\n?Spiegazione: (?P<explanation>.+))\\])\")\n",
    "    msgs_regex = re.compile(r\"(?P<message>\\(?(?P<timestamp>\\d\\d\\d\\d-\\d\\d-\\d\\d \\d\\d:\\d\\d:\\d\\d)\\)? ?\\|? ?(?P<name_content>(?P<name>.+):\\n?\\s?(?P<content>.+))\\n?\\s?Polarity: (?P<polarity>(?:-?|\\+?)\\d\\.?\\d?\\d?))\")\n",
    "    explanation_regex = re.compile(r\"Spiegazione:\\n(?P<explanation>(?:.|\\n)+)\")\n",
    "    dataset = {\n",
    "        \"chats\": [],\n",
    "        \"explanations\": [],\n",
    "        \"user_ids\": [],\n",
    "        \"msgs_lengths\": []\n",
    "    }\n",
    "    skipped = 0\n",
    "    model_dirs = os.listdir(path)\n",
    "    for model_dir in tqdm(model_dirs, desc=\"📂 Loading Dataset\"):\n",
    "        model_dir_path = os.path.join(path, model_dir)\n",
    "        couple_dirs = os.listdir(model_dir_path)\n",
    "        for couple_dir in couple_dirs: # tqdm(couple_dirs, desc=f\"📂 Loading Directory: {model_dir_path}\")\n",
    "            couple_dir_path = os.path.join(model_dir_path, couple_dir)\n",
    "            files = os.listdir(couple_dir_path)\n",
    "            for file in files:\n",
    "                with open(os.path.join(couple_dir_path, file), \"r\", encoding=\"utf-8\") as f:\n",
    "                    chat = f.read()\n",
    "                    messages = list(msgs_regex.finditer(chat))\n",
    "                    if len(messages) > 0: # checks if there are matched messages\n",
    "                        match = explanation_regex.search(chat)\n",
    "                        if match:\n",
    "                            dataset['explanations'].append(match.group(\"explanation\"))\n",
    "                        else:\n",
    "                            print(f\"No explanation found in file: {os.path.join(couple_dir_path, file)}\")\n",
    "                            skipped += 1\n",
    "                            continue\n",
    "                        simple_add(dataset, messages, couple_dir)\n",
    "                    else:\n",
    "                        skipped += 1\n",
    "                        print(f\"No messages found in file: {os.path.join(couple_dir_path, file)}\")\n",
    "                        \n",
    "    return dataset, skipped\n",
    "\n",
    "dataset, skipped = load_dataset(PATH)\n",
    "dataset = Dataset.from_dict(dataset)\n",
    "print(f\"Skipped: {skipped}\")"
   ]
  },
  {
   "cell_type": "code",
   "execution_count": 9,
   "id": "85e1e206",
   "metadata": {},
   "outputs": [
    {
     "name": "stdout",
     "output_type": "stream",
     "text": [
      "Dataset({\n",
      "    features: ['chats', 'explanations', 'user_ids', 'msgs_lengths'],\n",
      "    num_rows: 3157\n",
      "})\n",
      "chats: Sofia:\n",
      "Ciao Marco, come stai?\n",
      "Marco:\n",
      "Ciao Sofia. Tutto bene, grazie. Un po' impegnato con il lavoro.\n",
      "Sofia:\n",
      "Capisco. Senti, volevo dirti che questa settimana ho bisogno di un po' di spazio. Sono molto stressata e ho bisogno di concentrarmi su me stessa.\n",
      "Marco:\n",
      "Ah, ok. Quindi cosa significa? Non vuoi che ti scriva o ti chiami?\n",
      "Sofia:\n",
      "Significa che ho bisogno di tempo per me stessa, per rilassarmi e ricaricare le energie. Possiamo sentirci, ma magari non tutti i giorni e non per parlare di cose impegnative. Ho bisogno di leggerezza.\n",
      "Marco:\n",
      "Va bene. Cercherò di rispettare il tuo bisogno. Ma sappi che mi mancherai.\n",
      "Sofia:\n",
      "Grazie Marco, lo apprezzo molto. Anche tu mi mancherai, ma so che questo è necessario per il nostro benessere.\n",
      "Marco:\n",
      "Ok. Allora ci sentiamo tra qualche giorno. Buona giornata.\n",
      "Sofia:\n",
      "Grazie, anche a te. A presto.\n",
      "\n",
      "explanations: La conversazione si apre con un tono caloroso e premuroso da parte di Sofia, che si informa del benessere di Marco. Questo avvio stabilisce un clima di disponibilità e interesse reciproco, ponendo le basi per un'interazione aperta. Marco risponde in modo educato e conciso, comunicando di stare bene ma di essere impegnato. La sua risposta è neutrale e pragmatica, fornendo un'informazione sulla sua condizione attuale senza approfondire molto, mantenendo la conversazione su un piano superficiale.\n",
      "\n",
      "Il punto di svolta avviene quando Sofia, dopo aver riconosciuto la situazione di Marco, si apre esprimendo un bisogno personale significativo: quello di spazio. Il suo messaggio è diretto e vulnerabile, spiegando che è \"molto stressata\" e ha bisogno di \"concentrarsi su me stessa\". Questo comportamento è sano e assertivo, poiché comunica chiaramente una necessità personale fondamentale per il suo benessere. L'impatto sul dialogo è immediato: introduce un elemento di cambiamento nelle dinamiche relazionali, richiedendo a Marco di riadattarsi alle nuove condizioni.\n",
      "\n",
      "Marco reagisce con un iniziale senso di perplessità o incertezza, come suggerito dal suo \"Ah, ok\", seguito da domande specifiche per capire le implicazioni concrete di questa richiesta (\"Non vuoi che ti scriva o ti chiami?\"). Questa reazione è comprensibile e rivela una potenziale preoccupazione o confusione riguardo al futuro immediato della loro interazione. Non è un comportamento tossico, ma piuttosto un tentativo di chiarire i confini e gestire l'ansia che può derivare da un cambiamento inatteso nelle abitudini relazionali. La sua domanda riflette il desiderio di mantenere un contatto, seppur nei limiti che Sofia sta per definire.\n",
      "\n",
      "Sofia risponde con grande chiarezza e assertività, delineando in modo preciso il significato del suo bisogno di spazio. Spiega che ha bisogno di tempo per sé per \"rilassarmi e ricaricare le energie\", ma rassicura Marco sulla possibilità di sentirsi, ponendo però dei limiti (\"non tutti i giorni e non per parlare di cose impegnative. Ho bisogno di leggerezza\"). Questo messaggio è un esempio eccellente di comunicazione sana: definisce confini chiari senza chiudere completamente la porta al contatto, e giustifica la sua richiesta con le sue esigenze emotive di \"leggerezza\". L'impatto è quello di ridurre l'ambiguità e alleviare la potenziale ansia di Marco, stabilendo un terreno comune per la loro interazione futura.\n",
      "\n",
      "Marco, di fronte a questa spiegazione esauriente, accetta la richiesta di Sofia, promettendo di \"rispettare il tuo bisogno\". Questo è un comportamento sano e rispettoso, che dimostra la sua capacità di accogliere le esigenze del partner. Tuttavia, aggiunge un tocco personale e vulnerabile: \"Ma sappi che mi mancherai\". Questa espressione di affetto e del sentimento di mancanza è autentica e non manipolativa. Mostra a Sofia che, pur accettando la distanza, la sua presenza è comunque significativa per lui. Questo gesto ammorbidisce il distacco e rafforza il legame emotivo, pur aderendo ai nuovi confini.\n",
      "\n",
      "Sofia accoglie il sentimento di Marco con gratitudine e reciprocità: \"Grazie Marco, lo apprezzo molto. Anche tu mi mancherai\". Questa risposta valida la sua espressione emotiva, rafforzando la loro connessione. Inoltre, Sofia ribadisce la motivazione della sua richiesta, ma la inquadra in una prospettiva relazionale più ampia: \"ma so che questo è necessario per il nostro benessere\". Con questa frase, eleva il suo bisogno individuale a una scelta consapevole e condivisa per il beneficio reciproco della relazione, comunicando che prendersi cura di sé è un investimento nel loro legame. Questo approccio è estremamente sano, poiché trasforma la potenziale separazione in un atto di cura collettiva.\n",
      "\n",
      "Marco chiude la conversazione con un \"Ok\" che denota piena comprensione e accettazione, stabilendo un'intenzione chiara per il futuro (\"Allora ci sentiamo tra qualche giorno\") e un augurio cordiale. Questo comportamento finale è maturo e dimostra rispetto e una piena accettazione delle nuove condizioni, senza rancore o risentimento.\n",
      "\n",
      "Sofia conclude in modo altrettanto pacifico e affermativo, ricambiando gli auguri e confermando la temporaneità della distanza con un \"A presto\".\n",
      "\n",
      "In sintesi, la conversazione illustra un'escalation emotiva positiva, da un'apertura gentile a una chiara comunicazione di bisogni personali, gestita con reciproco rispetto e comprensione. Sofia dimostra assertività e chiarezza nel definire i suoi confini, mentre Marco mostra sensibilità, accettazione e un'espressione sana dei suoi sentimenti. Le cause di questa progressione sono la capacità di Sofia di comunicare onestamente e la disponibilità di Marco ad ascoltare e rispettare. Le conseguenze sono il rafforzamento della fiducia reciproca e una maggiore consapevolezza delle esigenze individuali all'interno della coppia, portando a una dinamica relazionale più sana e resiliente.\n",
      "\n",
      "user_ids: 2025-07-09-15-56-39\n",
      "\n",
      "msgs_lengths: 9\n",
      "\n"
     ]
    }
   ],
   "source": [
    "def print_dataset_info(dataset):\n",
    "    print(dataset)\n",
    "    # For each field, print the first entry\n",
    "    for field in dataset.features:\n",
    "        print(f\"{field}: {dataset[0][field]}\\n\")\n",
    "\n",
    "print_dataset_info(dataset)"
   ]
  },
  {
   "cell_type": "markdown",
   "id": "3505aa33",
   "metadata": {},
   "source": [
    "# 🪄 Dataset Preprocessing"
   ]
  },
  {
   "cell_type": "code",
   "execution_count": 10,
   "id": "c02488f6",
   "metadata": {},
   "outputs": [
    {
     "data": {
      "application/vnd.jupyter.widget-view+json": {
       "model_id": "df9f61249cf84d32bfc0ff6bdda80960",
       "version_major": 2,
       "version_minor": 0
      },
      "text/plain": [
       "Map:   0%|          | 0/3157 [00:00<?, ? examples/s]"
      ]
     },
     "metadata": {},
     "output_type": "display_data"
    },
    {
     "name": "stdout",
     "output_type": "stream",
     "text": [
      "Dataset({\n",
      "    features: ['user_ids', 'msgs_lengths', 'input_ids', 'attention_mask', 'labels'],\n",
      "    num_rows: 3157\n",
      "})\n"
     ]
    }
   ],
   "source": [
    "tokenizer = AutoTokenizer.from_pretrained(DEFAULT_CHECKPOINT)\n",
    "\n",
    "def preprocess(examples):\n",
    "    tokenized_chats = tokenizer(\n",
    "        examples['chats'],\n",
    "        # padding='max_length',\n",
    "        # truncation=True,\n",
    "        # max_length=1024,\n",
    "        # return_tensors='pt',\n",
    "        text_target=examples['explanations']\n",
    "    )\n",
    "    tokenized_chats[\"user_ids\"] = examples[\"user_ids\"]\n",
    "    tokenized_chats[\"msgs_lengths\"] = examples[\"msgs_lengths\"]\n",
    "    return tokenized_chats\n",
    "\n",
    "tokenized_dataset = dataset.map(\n",
    "    preprocess,\n",
    "    batched=True,\n",
    "    # batch_size=1000,\n",
    "    remove_columns=dataset.column_names\n",
    ")\n",
    "# print_dataset_info(tokenized_dataset)\n",
    "print(tokenized_dataset)"
   ]
  },
  {
   "cell_type": "code",
   "execution_count": 11,
   "id": "490277ed",
   "metadata": {},
   "outputs": [
    {
     "name": "stdout",
     "output_type": "stream",
     "text": [
      "input_ids token length statistics:\n",
      "Number of samples with more than 1024 tokens: 0\n",
      "Number of samples with more than 512 tokens: 329\n",
      "\n",
      "labels token length statistics:\n",
      "Number of samples with more than 1024 tokens: 1588\n",
      "Number of samples with more than 512 tokens: 3134\n"
     ]
    }
   ],
   "source": [
    "df = DataFrame(tokenized_dataset)\n",
    "\n",
    "more_than_1024_input_mask = df['input_ids'].apply(lambda x: len(x) > 1024)\n",
    "more_than_512_input_mask = df['input_ids'].apply(lambda x: len(x) > 512)\n",
    "more_than_1024_labels_mask = df['labels'].apply(lambda x: len(x) > 1024)\n",
    "more_than_512_labels_mask = df['labels'].apply(lambda x: len(x) > 512)\n",
    "\n",
    "# print(f\"Tokenized dataset:\\n{df.head()}\")\n",
    "print(\"input_ids token length statistics:\")\n",
    "print(f\"Number of samples with more than 1024 tokens: {len(df[more_than_1024_input_mask])}\")\n",
    "print(f\"Number of samples with more than 512 tokens: {len(df[more_than_512_input_mask])}\")\n",
    "\n",
    "print(\"\\nlabels token length statistics:\")\n",
    "print(f\"Number of samples with more than 1024 tokens: {len(df[more_than_1024_labels_mask])}\")\n",
    "print(f\"Number of samples with more than 512 tokens: {len(df[more_than_512_labels_mask])}\")\n",
    "\n",
    "# plots histograms for input_ids and labels with different colors in a single plot\n",
    "# with semi-transparent bars in order to visualize overlaps\n",
    "# with 1024 + 1 bins where the last bin is for samples with more than 1024 tokens\n",
    "\n",
    "input_ds_token_lengths = df['input_ids'].apply(lambda x: len(x))\n",
    "labels_ds_token_lengths = df['labels'].apply(lambda x: len(x))"
   ]
  },
  {
   "cell_type": "code",
   "execution_count": 12,
   "id": "ad4be8ff",
   "metadata": {},
   "outputs": [
    {
     "data": {
      "image/png": "[encoded data removed]",
      "text/plain": [
       "<Figure size 640x480 with 1 Axes>"
      ]
     },
     "metadata": {},
     "output_type": "display_data"
    },
    {
     "data": {
      "image/png": "[encoded data removed]",
      "text/plain": [
       "<Figure size 640x480 with 1 Axes>"
      ]
     },
     "metadata": {},
     "output_type": "display_data"
    }
   ],
   "source": [
    "input_ds_token_lengths.hist(\n",
    "    bins=input_ds_token_lengths.max(),\n",
    "    color=colors[0],\n",
    "    edgecolor=colors[2], \n",
    "    alpha=0.5, \n",
    "    label='Input Chats'\n",
    ")\n",
    "labels_ds_token_lengths.hist(\n",
    "    bins=labels_ds_token_lengths.max(),\n",
    "    color=colors[2],\n",
    "    edgecolor=colors[4],\n",
    "    alpha=0.5,\n",
    "    label='Output Explanations'\n",
    ")\n",
    "plt.xlabel('Number of Tokens')\n",
    "plt.ylabel('Frequency')\n",
    "plt.title('Token Length Distribution')\n",
    "plt.legend()\n",
    "# plt.savefig(os.path.join(OUT_DIR, \"token_and_message_length_distribution.png\"))\n",
    "plt.grid(False)\n",
    "plt.show()\n",
    "\n",
    "# min_msgs = df['msgs_lengths'].min()\n",
    "max_msgs = df['msgs_lengths'].max()\n",
    "df['msgs_lengths'].hist(\n",
    "    bins=range(max_msgs + 1),  # +2 so last bin includes max\n",
    "    color=colors[1],\n",
    "    edgecolor=colors[3],\n",
    "    label='Messages Lengths',\n",
    "    align='left'\n",
    ")\n",
    "plt.xlabel('Number of Messages')\n",
    "plt.ylabel('Frequency')\n",
    "plt.title('Messages Length Distribution')\n",
    "plt.legend()\n",
    "# plt.savefig(os.path.join(OUT_DIR, \"messages_length_distribution.png\"))\n",
    "plt.yscale('log')\n",
    "plt.xticks(range(max_msgs + 1))\n",
    "plt.grid(False)\n",
    "plt.show()\n",
    "\n",
    "# Remove all samples with more than 1024 tokens in input_ids and labels\n",
    "df = df[~more_than_1024_input_mask & ~more_than_1024_labels_mask]"
   ]
  },
  {
   "cell_type": "markdown",
   "id": "d29c0867",
   "metadata": {},
   "source": [
    "# 📂 Dataset Splitting"
   ]
  },
  {
   "cell_type": "code",
   "execution_count": null,
   "id": "86d9c0ea",
   "metadata": {},
   "outputs": [],
   "source": [
    "print(f\"Users in dataset: {df['user_ids'].nunique()}\")\n",
    "print(f\"Dataset size: {len(df)}\\n\")\n",
    "\n",
    "df.drop(columns=['msgs_lengths'], inplace=True)\n",
    "\n",
    "# Split the dataset into train, test, and eval sets using user_ids grouped examples\n",
    "grouped = df.groupby('user_ids')#.size().reset_index(name='counts')\n",
    "user_ids = list(grouped.groups.keys())#[:10]\n",
    "# df = df[df['user_ids'].isin(user_ids)]\n",
    "\n",
    "train_ids, test_ids = train_test_split(user_ids, test_size=TEST_SIZE, random_state=42)\n",
    "train_ids, eval_ids = train_test_split(train_ids, test_size=TEST_SIZE, random_state=42)\n",
    "tokenized_train_set = df[df['user_ids'].isin(train_ids)]\n",
    "tokenized_test_set = df[df['user_ids'].isin(test_ids)]\n",
    "tokenized_eval_set = df[df['user_ids'].isin(eval_ids)]\n",
    "\n",
    "# Prints how many users are in each set\n",
    "print(f\"Users in train set: {tokenized_train_set['user_ids'].nunique()}\")\n",
    "print(f\"Users in test set: {tokenized_test_set['user_ids'].nunique()}\")\n",
    "print(f\"Users in eval set: {tokenized_eval_set['user_ids'].nunique()}\\n\")\n",
    "\n",
    "# Remove the 'user_ids' column from the train, test, and eval sets\n",
    "tokenized_train_set = tokenized_train_set.drop(columns=['user_ids'])\n",
    "tokenized_test_set = tokenized_test_set.drop(columns=['user_ids'])\n",
    "tokenized_eval_set = tokenized_eval_set.drop(columns=['user_ids'])\n",
    "\n",
    "tokenized_train_set = tokenized_train_set.reset_index(drop=True)\n",
    "tokenized_test_set = tokenized_test_set.reset_index(drop=True)\n",
    "tokenized_eval_set = tokenized_eval_set.reset_index(drop=True)\n",
    "\n",
    "tokenized_train_set = Dataset.from_pandas(tokenized_train_set)\n",
    "tokenized_test_set = Dataset.from_pandas(tokenized_test_set)\n",
    "tokenized_eval_set = Dataset.from_pandas(tokenized_eval_set)\n",
    "\n",
    "print(f\"Train set size: {len(tokenized_train_set)}\")\n",
    "print(f\"Test set size: {len(tokenized_test_set)}\")\n",
    "print(f\"Eval set size: {len(tokenized_eval_set)}\\n\")\n",
    "\n",
    "# Set the format to PyTorch tensors\n",
    "tokenized_train_set.set_format(\"torch\")\n",
    "tokenized_test_set.set_format(\"torch\")\n",
    "tokenized_eval_set.set_format(\"torch\")\n",
    "\n",
    "print_dataset_info(tokenized_train_set)"
   ]
  },
  {
   "cell_type": "markdown",
   "id": "a1c86159",
   "metadata": {},
   "source": [
    "# 🤖 Fine-Tuning BART"
   ]
  },
  {
   "cell_type": "code",
   "execution_count": null,
   "id": "9c0860fb",
   "metadata": {},
   "outputs": [],
   "source": [
    "class TrainingEvaluationFunction():\n",
    "\n",
    "    def __init__(self, tokenizer):\n",
    "        self.tokenizer = tokenizer\n",
    "        self.bertscore_metric = ev.load('bertscore')\n",
    "    \n",
    "    def __call__(self, eval_pred):\n",
    "        predictions, labels = eval_pred\n",
    "        # Replace -100 with pad_token_id for decoding\n",
    "        labels = torch.where(\n",
    "            torch.tensor(labels) == -100,\n",
    "            torch.tensor(self.tokenizer.pad_token_id),\n",
    "            torch.tensor(labels)\n",
    "        )\n",
    "        \n",
    "        predicted_explanations = self.tokenizer.batch_decode(\n",
    "            predictions, \n",
    "            skip_special_tokens=True\n",
    "        )\n",
    "        true_explanations = self.tokenizer.batch_decode(\n",
    "            labels, \n",
    "            skip_special_tokens=True\n",
    "        )\n",
    "        \n",
    "        bertscore_results = self.bertscore_metric.compute(\n",
    "            predictions=predicted_explanations,\n",
    "            references=true_explanations,\n",
    "            lang=\"it\",\n",
    "        )\n",
    "        \n",
    "        bertscore_precision = sum(bertscore_results['precision']) / len(bertscore_results['precision'])\n",
    "        bertscore_recall = sum(bertscore_results['recall']) / len(bertscore_results['recall'])\n",
    "        bertscore_f1 = sum(bertscore_results['f1']) / len(bertscore_results['f1'])\n",
    "        \n",
    "        return {\n",
    "            'bertscore_precision': bertscore_precision,\n",
    "            'bertscore_recall': bertscore_recall,\n",
    "            'bertscore_f1': bertscore_f1\n",
    "        }"
   ]
  },
  {
   "cell_type": "code",
   "execution_count": null,
   "id": "a1375cba",
   "metadata": {},
   "outputs": [],
   "source": [
    "model = AutoModelForSeq2SeqLM.from_pretrained(\n",
    "    DEFAULT_CHECKPOINT\n",
    ")\n",
    "\n",
    "gen_config = GenerationConfig(\n",
    "    max_length=1024,\n",
    "    do_sample=True,\n",
    "    top_p=0.95,\n",
    "    top_k=25,\n",
    "    temperature=0.6,\n",
    "    decoder_start_token_id=model.config.decoder_start_token_id,\n",
    "    bos_token_id=model.config.bos_token_id,\n",
    ")\n",
    "\n",
    "training_args = Seq2SeqTrainingArguments(\n",
    "    output_dir=OUT_DIR,\n",
    "    num_train_epochs=NUM_EPOCHS,\n",
    "    per_device_train_batch_size=BATCH_SIZE,\n",
    "    per_device_eval_batch_size=BATCH_SIZE,\n",
    "\n",
    "    gradient_accumulation_steps=GRADIENT_ACCUMULATION_STEPS,\n",
    "    learning_rate=BODY_LR,\n",
    "    weight_decay=WEIGHT_DECAY,\n",
    "    warmup_ratio=WARMUP_PERCENTAGE,\n",
    "\n",
    "    # lr_scheduler_type=\"linear\",\n",
    "    lr_scheduler_type=\"reduce_lr_on_plateau\",\n",
    "    lr_scheduler_kwargs=LR_SCHEDULER_KWARGS,\n",
    "\n",
    "    eval_strategy=\"epoch\",\n",
    "    save_strategy=\"epoch\",\n",
    "    logging_strategy=\"epoch\",\n",
    "    load_best_model_at_end=True,\n",
    "    save_total_limit=SAVE_TOTAL_LIMIT,\n",
    "    report_to=\"none\",\n",
    "\n",
    "    metric_for_best_model=\"bertscore_f1\",\n",
    "    greater_is_better=True,\n",
    "    predict_with_generate=True,\n",
    "    generation_config=gen_config,\n",
    "\n",
    "    fp16=torch.cuda.is_available(),\n",
    "    dataloader_num_workers=NUM_WORKERS,\n",
    ")\n",
    "\n",
    "data_collator = DataCollatorForSeq2Seq(\n",
    "    tokenizer=tokenizer,\n",
    "    # model=model\n",
    ")\n",
    "\n",
    "trainer = Seq2SeqTrainer(\n",
    "    model=model,\n",
    "    args=training_args,\n",
    "    train_dataset=tokenized_train_set,\n",
    "    eval_dataset=tokenized_eval_set,\n",
    "    # tokenizer=tokenizer,\n",
    "    data_collator=data_collator,\n",
    "    compute_metrics=TrainingEvaluationFunction(tokenizer),\n",
    "    callbacks=[EarlyStoppingCallback(\n",
    "        early_stopping_patience=EARLY_STOPPING_PATIENCE,\n",
    "        early_stopping_threshold=EARLY_STOPPING_THRESHOLD\n",
    "    )]\n",
    ")\n",
    "\n",
    "train_result = trainer.train()\n",
    "log_history = trainer.state.log_history\n",
    "plot_losses(log_history, RESULTS_PATH)"
   ]
  },
  {
   "cell_type": "markdown",
   "id": "b321b5f7",
   "metadata": {},
   "source": [
    "# 📈​ Testing BART"
   ]
  },
  {
   "cell_type": "code",
   "execution_count": null,
   "id": "85310f4e",
   "metadata": {},
   "outputs": [],
   "source": [
    "class TestingEvaluationFunction:\n",
    "\n",
    "    def __init__(self, tokenizer):\n",
    "        self.tokenizer = tokenizer\n",
    "        self.rouge_metric = ev.load('rouge')\n",
    "        self.bleu_metric = ev.load('bleu')\n",
    "        self.bertscore_metric = ev.load('bertscore')\n",
    "\n",
    "    def __call__(self, eval_pred):\n",
    "        predictions, labels = eval_pred\n",
    "        \n",
    "        # Replace -100 with pad_token_id for decoding\n",
    "        labels = torch.where(\n",
    "            torch.tensor(labels) == -100,\n",
    "            torch.tensor(self.tokenizer.pad_token_id),\n",
    "            torch.tensor(labels)\n",
    "        )\n",
    "        \n",
    "        predicted_explanations = self.tokenizer.batch_decode(\n",
    "            predictions, \n",
    "            skip_special_tokens=True\n",
    "        )\n",
    "        true_explanations = self.tokenizer.batch_decode(\n",
    "            labels, \n",
    "            skip_special_tokens=True\n",
    "        )\n",
    "        \n",
    "        # Compute ROUGE scores\n",
    "        rouge_results = self.rouge_metric.compute(\n",
    "            predictions=predicted_explanations,\n",
    "            references=true_explanations\n",
    "        )\n",
    "        \n",
    "        # Compute BLEU score\n",
    "        bleu_results = self.bleu_metric.compute(\n",
    "            predictions=predicted_explanations,\n",
    "            references=[[ref] for ref in true_explanations]\n",
    "        )\n",
    "        \n",
    "        # Compute BERTScore\n",
    "        bertscore_results = self.bertscore_metric.compute(\n",
    "            predictions=predicted_explanations,\n",
    "            references=true_explanations,\n",
    "            lang=\"it\",\n",
    "        )\n",
    "\n",
    "        bertscore_precision = sum(bertscore_results['precision']) / len(bertscore_results['precision'])\n",
    "        bertscore_recall = sum(bertscore_results['recall']) / len(bertscore_results['recall'])\n",
    "        bertscore_f1 = sum(bertscore_results['f1']) / len(bertscore_results['f1'])\n",
    "        \n",
    "        return {\n",
    "            'rouge1': rouge_results['rouge1'],\n",
    "            'rouge2': rouge_results['rouge2'],\n",
    "            'rougeL': rouge_results['rougeL'],\n",
    "            'bleu': bleu_results['bleu'],\n",
    "            'bert_score_precision': bertscore_precision,\n",
    "            'bert_score_recall': bertscore_recall,\n",
    "            'bertscore_f1': bertscore_f1\n",
    "        }\n"
   ]
  },
  {
   "cell_type": "markdown",
   "id": "06923925",
   "metadata": {},
   "source": [
    "## Evaluation"
   ]
  },
  {
   "cell_type": "code",
   "execution_count": null,
   "id": "f4fa7d34",
   "metadata": {},
   "outputs": [],
   "source": [
    "trainer.compute_metrics = TestingEvaluationFunction(\n",
    "    tokenizer=tokenizer,\n",
    ")\n",
    "test_metrics = trainer.evaluate(\n",
    "    eval_dataset=tokenized_test_set,\n",
    "    metric_key_prefix=\"test\",\n",
    "    # tokenizer=tokenizer,\n",
    "    # data_collator=data_collator\n",
    ")\n",
    "for key, value in test_metrics.items():\n",
    "    print(f\"{key}: {value}\")\n",
    "with open(os.path.join(RESULTS_PATH, \"test_metrics.txt\"), \"w\") as f:\n",
    "    for key, value in test_metrics.items():\n",
    "        f.write(f\"{key}: {value}\\n\")"
   ]
  },
  {
   "cell_type": "code",
   "execution_count": null,
   "id": "9575e012",
   "metadata": {},
   "outputs": [],
   "source": [
    "if os.path.exists(\"/kaggle\"):\n",
    "    shutil.make_archive(OUT_DIR, 'zip', OUT_DIR)\n",
    "    shutil.rmtree(OUT_DIR)"
   ]
  }
 ],
 "metadata": {
  "kernelspec": {
   "display_name": "venv",
   "language": "python",
   "name": "python3"
  },
  "language_info": {
   "codemirror_mode": {
    "name": "ipython",
    "version": 3
   },
   "file_extension": ".py",
   "mimetype": "text/x-python",
   "name": "python",
   "nbconvert_exporter": "python",
   "pygments_lexer": "ipython3",
   "version": "3.10.4"
  }
 },
 "nbformat": 4,
 "nbformat_minor": 5
}
